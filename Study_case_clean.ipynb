{
 "cells": [
  {
   "cell_type": "code",
   "execution_count": 1,
   "id": "11280f00",
   "metadata": {},
   "outputs": [],
   "source": [
    "# Numpy and Pandas libraries\n",
    "import numpy as np\n",
    "import pandas as pd\n",
    "\n",
    "# Visualization libraries\n",
    "import plotly.graph_objects as go\n",
    "import seaborn as sns\n",
    "import matplotlib.pyplot as plt\n",
    "import matplotlib.dates as mdates\n",
    "import plotly.express as px\n",
    "import plotly.graph_objs as go\n",
    "import seaborn as sns\n",
    "\n",
    "import warnings\n",
    "warnings.filterwarnings('ignore')"
   ]
  },
  {
   "cell_type": "code",
   "execution_count": 2,
   "id": "2c333bda",
   "metadata": {},
   "outputs": [
    {
     "data": {
      "text/html": [
       "<div>\n",
       "<style scoped>\n",
       "    .dataframe tbody tr th:only-of-type {\n",
       "        vertical-align: middle;\n",
       "    }\n",
       "\n",
       "    .dataframe tbody tr th {\n",
       "        vertical-align: top;\n",
       "    }\n",
       "\n",
       "    .dataframe thead th {\n",
       "        text-align: right;\n",
       "    }\n",
       "</style>\n",
       "<table border=\"1\" class=\"dataframe\">\n",
       "  <thead>\n",
       "    <tr style=\"text-align: right;\">\n",
       "      <th></th>\n",
       "      <th>patient_id</th>\n",
       "      <th>experiment_group</th>\n",
       "      <th>patient_created_at</th>\n",
       "      <th>first_cx_booked_at</th>\n",
       "      <th>first_cx_cancelled_at</th>\n",
       "      <th>cx_appointment_at</th>\n",
       "      <th>appointment_attendance</th>\n",
       "      <th>px_booked_at</th>\n",
       "      <th>converted</th>\n",
       "    </tr>\n",
       "  </thead>\n",
       "  <tbody>\n",
       "    <tr>\n",
       "      <th>0</th>\n",
       "      <td>69522307739</td>\n",
       "      <td>with-credit-card</td>\n",
       "      <td>2019-12-20</td>\n",
       "      <td>2019-12-21</td>\n",
       "      <td>NaN</td>\n",
       "      <td>2020-01-11</td>\n",
       "      <td>patient-show</td>\n",
       "      <td>2020-01-13</td>\n",
       "      <td>1</td>\n",
       "    </tr>\n",
       "    <tr>\n",
       "      <th>1</th>\n",
       "      <td>931819353745</td>\n",
       "      <td>with-credit-card</td>\n",
       "      <td>2019-12-23</td>\n",
       "      <td>NaN</td>\n",
       "      <td>NaN</td>\n",
       "      <td>NaN</td>\n",
       "      <td>NaN</td>\n",
       "      <td>NaN</td>\n",
       "      <td>0</td>\n",
       "    </tr>\n",
       "    <tr>\n",
       "      <th>2</th>\n",
       "      <td>979634255142</td>\n",
       "      <td>with-credit-card</td>\n",
       "      <td>2019-12-19</td>\n",
       "      <td>2019-12-19</td>\n",
       "      <td>NaN</td>\n",
       "      <td>2020-01-05</td>\n",
       "      <td>patient-no-show</td>\n",
       "      <td>NaN</td>\n",
       "      <td>0</td>\n",
       "    </tr>\n",
       "    <tr>\n",
       "      <th>3</th>\n",
       "      <td>534016431925</td>\n",
       "      <td>with-credit-card</td>\n",
       "      <td>2019-12-22</td>\n",
       "      <td>NaN</td>\n",
       "      <td>NaN</td>\n",
       "      <td>NaN</td>\n",
       "      <td>NaN</td>\n",
       "      <td>NaN</td>\n",
       "      <td>0</td>\n",
       "    </tr>\n",
       "    <tr>\n",
       "      <th>4</th>\n",
       "      <td>934071204695</td>\n",
       "      <td>no-credit-card</td>\n",
       "      <td>2019-12-23</td>\n",
       "      <td>NaN</td>\n",
       "      <td>NaN</td>\n",
       "      <td>NaN</td>\n",
       "      <td>NaN</td>\n",
       "      <td>NaN</td>\n",
       "      <td>0</td>\n",
       "    </tr>\n",
       "    <tr>\n",
       "      <th>...</th>\n",
       "      <td>...</td>\n",
       "      <td>...</td>\n",
       "      <td>...</td>\n",
       "      <td>...</td>\n",
       "      <td>...</td>\n",
       "      <td>...</td>\n",
       "      <td>...</td>\n",
       "      <td>...</td>\n",
       "      <td>...</td>\n",
       "    </tr>\n",
       "    <tr>\n",
       "      <th>244</th>\n",
       "      <td>622017544373</td>\n",
       "      <td>no-credit-card</td>\n",
       "      <td>2019-12-17</td>\n",
       "      <td>2019-12-21</td>\n",
       "      <td>NaN</td>\n",
       "      <td>2020-01-21</td>\n",
       "      <td>patient-show</td>\n",
       "      <td>NaN</td>\n",
       "      <td>0</td>\n",
       "    </tr>\n",
       "    <tr>\n",
       "      <th>245</th>\n",
       "      <td>774314191241</td>\n",
       "      <td>with-credit-card</td>\n",
       "      <td>2019-12-17</td>\n",
       "      <td>2019-12-17</td>\n",
       "      <td>NaN</td>\n",
       "      <td>2019-12-18</td>\n",
       "      <td>patient-show</td>\n",
       "      <td>NaN</td>\n",
       "      <td>0</td>\n",
       "    </tr>\n",
       "    <tr>\n",
       "      <th>246</th>\n",
       "      <td>811952273739</td>\n",
       "      <td>with-credit-card</td>\n",
       "      <td>2019-12-22</td>\n",
       "      <td>2019-12-22</td>\n",
       "      <td>NaN</td>\n",
       "      <td>2020-01-14</td>\n",
       "      <td>patient-show</td>\n",
       "      <td>2020-01-21</td>\n",
       "      <td>1</td>\n",
       "    </tr>\n",
       "    <tr>\n",
       "      <th>248</th>\n",
       "      <td>30550284109</td>\n",
       "      <td>with-credit-card</td>\n",
       "      <td>2019-12-22</td>\n",
       "      <td>NaN</td>\n",
       "      <td>NaN</td>\n",
       "      <td>NaN</td>\n",
       "      <td>NaN</td>\n",
       "      <td>NaN</td>\n",
       "      <td>0</td>\n",
       "    </tr>\n",
       "    <tr>\n",
       "      <th>249</th>\n",
       "      <td>892266759396</td>\n",
       "      <td>with-credit-card</td>\n",
       "      <td>2019-12-21</td>\n",
       "      <td>2019-12-21</td>\n",
       "      <td>NaN</td>\n",
       "      <td>2020-01-13</td>\n",
       "      <td>patient-no-show</td>\n",
       "      <td>NaN</td>\n",
       "      <td>0</td>\n",
       "    </tr>\n",
       "  </tbody>\n",
       "</table>\n",
       "<p>242 rows × 9 columns</p>\n",
       "</div>"
      ],
      "text/plain": [
       "       patient_id  experiment_group patient_created_at first_cx_booked_at  \\\n",
       "0     69522307739  with-credit-card         2019-12-20         2019-12-21   \n",
       "1    931819353745  with-credit-card         2019-12-23                NaN   \n",
       "2    979634255142  with-credit-card         2019-12-19         2019-12-19   \n",
       "3    534016431925  with-credit-card         2019-12-22                NaN   \n",
       "4    934071204695    no-credit-card         2019-12-23                NaN   \n",
       "..            ...               ...                ...                ...   \n",
       "244  622017544373    no-credit-card         2019-12-17         2019-12-21   \n",
       "245  774314191241  with-credit-card         2019-12-17         2019-12-17   \n",
       "246  811952273739  with-credit-card         2019-12-22         2019-12-22   \n",
       "248   30550284109  with-credit-card         2019-12-22                NaN   \n",
       "249  892266759396  with-credit-card         2019-12-21         2019-12-21   \n",
       "\n",
       "    first_cx_cancelled_at cx_appointment_at appointment_attendance  \\\n",
       "0                     NaN        2020-01-11           patient-show   \n",
       "1                     NaN               NaN                    NaN   \n",
       "2                     NaN        2020-01-05        patient-no-show   \n",
       "3                     NaN               NaN                    NaN   \n",
       "4                     NaN               NaN                    NaN   \n",
       "..                    ...               ...                    ...   \n",
       "244                   NaN        2020-01-21           patient-show   \n",
       "245                   NaN        2019-12-18           patient-show   \n",
       "246                   NaN        2020-01-14           patient-show   \n",
       "248                   NaN               NaN                    NaN   \n",
       "249                   NaN        2020-01-13        patient-no-show   \n",
       "\n",
       "    px_booked_at  converted  \n",
       "0     2020-01-13          1  \n",
       "1            NaN          0  \n",
       "2            NaN          0  \n",
       "3            NaN          0  \n",
       "4            NaN          0  \n",
       "..           ...        ...  \n",
       "244          NaN          0  \n",
       "245          NaN          0  \n",
       "246   2020-01-21          1  \n",
       "248          NaN          0  \n",
       "249          NaN          0  \n",
       "\n",
       "[242 rows x 9 columns]"
      ]
     },
     "execution_count": 2,
     "metadata": {},
     "output_type": "execute_result"
    }
   ],
   "source": [
    "df = pd.read_csv('study_case_clean.csv', index_col=0)\n",
    "df"
   ]
  },
  {
   "cell_type": "code",
   "execution_count": 3,
   "id": "564e2521",
   "metadata": {},
   "outputs": [
    {
     "name": "stdout",
     "output_type": "stream",
     "text": [
      "<class 'pandas.core.frame.DataFrame'>\n",
      "Int64Index: 242 entries, 0 to 249\n",
      "Data columns (total 9 columns):\n",
      " #   Column                  Non-Null Count  Dtype \n",
      "---  ------                  --------------  ----- \n",
      " 0   patient_id              242 non-null    int64 \n",
      " 1   experiment_group        242 non-null    object\n",
      " 2   patient_created_at      242 non-null    object\n",
      " 3   first_cx_booked_at      134 non-null    object\n",
      " 4   first_cx_cancelled_at   16 non-null     object\n",
      " 5   cx_appointment_at       121 non-null    object\n",
      " 6   appointment_attendance  121 non-null    object\n",
      " 7   px_booked_at            12 non-null     object\n",
      " 8   converted               242 non-null    int64 \n",
      "dtypes: int64(2), object(7)\n",
      "memory usage: 18.9+ KB\n"
     ]
    }
   ],
   "source": [
    "df.info()"
   ]
  },
  {
   "cell_type": "markdown",
   "id": "5e838670",
   "metadata": {},
   "source": [
    "# Marginal and conditional probabilities for booking\n",
    "\n",
    "Below I will attempt to compute the best estimate of marginal and conditional probabilities for conversion.\n",
    "\n",
    "a. What is the probability of an individual making a booking regardless of the page they receive?  𝑃(booking)"
   ]
  },
  {
   "cell_type": "code",
   "execution_count": 4,
   "id": "79dfb268",
   "metadata": {},
   "outputs": [
    {
     "data": {
      "text/plain": [
       "0.5537190082644629"
      ]
     },
     "execution_count": 4,
     "metadata": {},
     "output_type": "execute_result"
    }
   ],
   "source": [
    "n_users = df.shape[0]    #number of all patients in dataset\n",
    "total_bookings = (df.loc[~df.first_cx_booked_at.isnull()].first_cx_booked_at.count())  #number of patients who made the booking\n",
    "\n",
    "# Prob of booking regardless of the page\n",
    "Pbooking = total_bookings / n_users\n",
    "Pbooking"
   ]
  },
  {
   "cell_type": "markdown",
   "id": "d597265f",
   "metadata": {},
   "source": [
    "b. Given that an individual was in the `no-credit-card` group, what is the probability they booked an appointment? $P(booking | no-credit-card)$"
   ]
  },
  {
   "cell_type": "code",
   "execution_count": 5,
   "id": "593ca73b",
   "metadata": {},
   "outputs": [
    {
     "data": {
      "text/plain": [
       "0.5957446808510638"
      ]
     },
     "execution_count": 5,
     "metadata": {},
     "output_type": "execute_result"
    }
   ],
   "source": [
    "# Prob of conversion in no-credit-card group\n",
    "no_card_df = df.loc[df.experiment_group == \"no-credit-card\"]\n",
    "n_no_card = no_card_df.shape[0]\n",
    "n_booking_no_card = no_card_df['first_cx_booked_at'].count()\n",
    "\n",
    "P_booking_no_card = n_booking_no_card / n_no_card\n",
    "P_booking_no_card"
   ]
  },
  {
   "cell_type": "markdown",
   "id": "cd5cbe6e",
   "metadata": {},
   "source": [
    "c. Given that an individual was in the `with-credit-card` group, what is the probability they booked an appointment? $P(booking | with-credit-card)$"
   ]
  },
  {
   "cell_type": "code",
   "execution_count": 6,
   "id": "83355063",
   "metadata": {},
   "outputs": [
    {
     "data": {
      "text/plain": [
       "0.49504950495049505"
      ]
     },
     "execution_count": 6,
     "metadata": {},
     "output_type": "execute_result"
    }
   ],
   "source": [
    "# Prob of conversion in with-credit-card group\n",
    "with_card_df = df.loc[df.experiment_group == \"with-credit-card\"]\n",
    "n_with_card = with_card_df.shape[0]\n",
    "n_booking_with_card = with_card_df['first_cx_booked_at'].count()\n",
    "\n",
    "P_booking_with_card = n_booking_with_card / n_with_card\n",
    "P_booking_with_card"
   ]
  },
  {
   "cell_type": "code",
   "execution_count": 7,
   "id": "4c30dbbd",
   "metadata": {},
   "outputs": [
    {
     "name": "stdout",
     "output_type": "stream",
     "text": [
      "Summary of dataset\n",
      "  Total samples of\n",
      "\t- total number of patients: 242\n",
      "\t-   no-card-card size: 141\n",
      "\t-   with-credit-card size: 101\n",
      "\t- bookings: 134\n",
      "\t-   bookings in no_card set: 84\n",
      "\t-   bookings in with_card set: 50\n",
      "  Probabilities \n",
      "  Our best estimations of these probabilities, are the following proportions:\n",
      "\t- of booking regardles of group: 55.37%\n",
      "\t- of booking in no-credit-card group: 59.57%\n",
      "\t- of booking in with-credit-card group: 49.5%\n",
      "  The difference in probability between the two groups is: 10.07%\n"
     ]
    }
   ],
   "source": [
    "print(\"Summary of dataset\")\n",
    "print(\"  Total samples of\")\n",
    "print(\"\\t- total number of patients: \" + str(n_users))\n",
    "print(\"\\t-   no-card-card size: \" + str(n_no_card))\n",
    "print(\"\\t-   with-credit-card size: \" + str(n_with_card))\n",
    "print(\"\\t- bookings: \" + str(total_bookings))\n",
    "print(\"\\t-   bookings in no_card set: \" + str(n_booking_no_card))\n",
    "print(\"\\t-   bookings in with_card set: \" + str(n_booking_with_card))\n",
    "print(\"  Probabilities \\n  Our best estimations of these probabilities, are the following proportions:\")\n",
    "print(\"\\t- of booking regardles of group: \" + str(round(Pbooking*100,2)) + \"%\")\n",
    "print(\"\\t- of booking in no-credit-card group: \" + str(round(P_booking_no_card*100,2)) + \"%\")\n",
    "print(\"\\t- of booking in with-credit-card group: \" + str(round(P_booking_with_card*100,2)) + \"%\")\n",
    "m = (round(P_booking_no_card*100,2) - round(P_booking_with_card*100,2))\n",
    "print(\"  The difference in probability between the two groups is: \" + str(m) + \"%\")"
   ]
  },
  {
   "cell_type": "markdown",
   "id": "7751c510",
   "metadata": {},
   "source": [
    "**Conclusion:** Using the web page which does not askes for credit card details during signup results in higher probability of patient making an initial booking (59.57%) compared with using the page which does (49.5%). The difference between the two groups is 10.07%."
   ]
  },
  {
   "cell_type": "markdown",
   "id": "175b8006",
   "metadata": {},
   "source": [
    "# Marginal and conditional probabilities for cancellation\n",
    "\n",
    "Below I will attempt to compute the best estimate of marginal and conditional probabilities for cancellation of booking.\n",
    "\n",
    "a. What is the probability of an individual cancelling a booking regardless of the page they receive?  𝑃(cancellation)"
   ]
  },
  {
   "cell_type": "code",
   "execution_count": 8,
   "id": "b2acd095",
   "metadata": {},
   "outputs": [
    {
     "data": {
      "text/plain": [
       "0.06611570247933884"
      ]
     },
     "execution_count": 8,
     "metadata": {},
     "output_type": "execute_result"
    }
   ],
   "source": [
    "n_users = df.shape[0]    #number of all patients in dataset\n",
    "total_cancellations = (df.loc[~df.first_cx_cancelled_at.isnull()].first_cx_cancelled_at.count())  #number of patients who cancelled\n",
    "\n",
    "# Prob of cancellation regardless of the page\n",
    "Pcancellation = total_cancellations / n_users\n",
    "Pcancellation"
   ]
  },
  {
   "cell_type": "markdown",
   "id": "0e8caa2b",
   "metadata": {},
   "source": [
    "b. Given that an individual was in the `no-credit-card` group, what is the probability they cancelled an appointment? $P(cancellations | no-credit-card)$"
   ]
  },
  {
   "cell_type": "code",
   "execution_count": 9,
   "id": "4b18e186",
   "metadata": {},
   "outputs": [
    {
     "data": {
      "text/plain": [
       "0.07092198581560284"
      ]
     },
     "execution_count": 9,
     "metadata": {},
     "output_type": "execute_result"
    }
   ],
   "source": [
    "# Prob of cancellation in no-credit-card group\n",
    "no_card_df = df.loc[df.experiment_group == \"no-credit-card\"]\n",
    "n_no_card = no_card_df.shape[0]\n",
    "n_cancellation_no_card = no_card_df['first_cx_cancelled_at'].count()\n",
    "\n",
    "P_cancellation_no_card = n_cancellation_no_card / n_no_card\n",
    "P_cancellation_no_card"
   ]
  },
  {
   "cell_type": "markdown",
   "id": "a731c7b4",
   "metadata": {},
   "source": [
    "c. Given that an individual was in the `with-credit-card` group, what is the probability they cancelled an appointment? $P(cancellations | with-credit-card)$"
   ]
  },
  {
   "cell_type": "code",
   "execution_count": 10,
   "id": "b452dc49",
   "metadata": {},
   "outputs": [
    {
     "data": {
      "text/plain": [
       "0.0594059405940594"
      ]
     },
     "execution_count": 10,
     "metadata": {},
     "output_type": "execute_result"
    }
   ],
   "source": [
    "# Prob of concellaton in with-credit-card group\n",
    "with_card_df = df.loc[df.experiment_group == \"with-credit-card\"]\n",
    "n_with_card = with_card_df.shape[0]\n",
    "n_cancellation_with_card = with_card_df['first_cx_cancelled_at'].count()\n",
    "\n",
    "P_cancellation_with_card = n_cancellation_with_card / n_with_card\n",
    "P_cancellation_with_card"
   ]
  },
  {
   "cell_type": "code",
   "execution_count": 11,
   "id": "b8bbc31f",
   "metadata": {},
   "outputs": [
    {
     "name": "stdout",
     "output_type": "stream",
     "text": [
      "Summary of dataset\n",
      "  Total samples of\n",
      "\t- total number of patients: 242\n",
      "\t-   no-card-card size: 141\n",
      "\t-   with-credit-card size: 101\n",
      "\t- cancellations: 16\n",
      "\t-   cancellations in no_card set: 10\n",
      "\t-   cancellations in with_card set: 6\n",
      "  Probabilities \n",
      "  Our best estimations of these probabilities, are the following proportions:\n",
      "\t- of cancellation regardles of group: 6.61%\n",
      "\t- of cancellation in no-credit-card group: 7.09%\n",
      "\t- of cancellation in with-credit-card group: 5.94%\n",
      "  The difference in probability between the two groups is: 1.15%\n"
     ]
    }
   ],
   "source": [
    "print(\"Summary of dataset\")\n",
    "print(\"  Total samples of\")\n",
    "print(\"\\t- total number of patients: \" + str(n_users))\n",
    "print(\"\\t-   no-card-card size: \" + str(n_no_card))\n",
    "print(\"\\t-   with-credit-card size: \" + str(n_with_card))\n",
    "print(\"\\t- cancellations: \" + str(total_cancellations))\n",
    "print(\"\\t-   cancellations in no_card set: \" + str(n_cancellation_no_card))\n",
    "print(\"\\t-   cancellations in with_card set: \" + str(n_cancellation_with_card))\n",
    "print(\"  Probabilities \\n  Our best estimations of these probabilities, are the following proportions:\")\n",
    "print(\"\\t- of cancellation regardles of group: \" + str(round(Pcancellation*100,2)) + \"%\")\n",
    "print(\"\\t- of cancellation in no-credit-card group: \" + str(round(P_cancellation_no_card*100,2)) + \"%\")\n",
    "print(\"\\t- of cancellation in with-credit-card group: \" + str(round(P_cancellation_with_card*100,2)) + \"%\")\n",
    "d = round((P_cancellation_no_card*100 - P_cancellation_with_card*100),2)\n",
    "print(\"  The difference in probability between the two groups is: \" + str(d) + \"%\")"
   ]
  },
  {
   "cell_type": "markdown",
   "id": "b2fb0d15",
   "metadata": {},
   "source": [
    "**Conclusion:** Using the web page which does not askes for credit card details during signup results in higher probability of patient cancelling a booking (7.09%) compared with using the page which does (5.94%). The difference between the two groups is 1.15%."
   ]
  },
  {
   "cell_type": "markdown",
   "id": "bc8fb77b",
   "metadata": {},
   "source": [
    "# Marginal and conditional probabilities for appointment\n",
    "\n",
    "Below I will attempt to compute the best estimate of marginal and conditional probabilities for patient booking an appontment and not cancelling it. Doing this will also help validate the above two steps.\n",
    "\n",
    "a. What is the probability of an individual booking and not cancelling regardless of the page they receive?  𝑃(cancellation)"
   ]
  },
  {
   "cell_type": "code",
   "execution_count": 12,
   "id": "3590c523",
   "metadata": {},
   "outputs": [
    {
     "data": {
      "text/plain": [
       "0.5"
      ]
     },
     "execution_count": 12,
     "metadata": {},
     "output_type": "execute_result"
    }
   ],
   "source": [
    "n_users = df.shape[0]    #number of all patients in dataset\n",
    "total_appoint = (df.loc[~df.cx_appointment_at.isnull()].cx_appointment_at.count())  #number of apointments\n",
    "\n",
    "# Prob of appointment regardless of the page\n",
    "Pappoint = total_appoint / n_users\n",
    "Pappoint"
   ]
  },
  {
   "cell_type": "markdown",
   "id": "8a52951f",
   "metadata": {},
   "source": [
    "b. Given that an individual was in the `no-credit-card` group, what is the probability they cancelled an appointment? $P(cancellations | no-credit-card)$"
   ]
  },
  {
   "cell_type": "code",
   "execution_count": 13,
   "id": "9cee9d98",
   "metadata": {},
   "outputs": [
    {
     "data": {
      "text/plain": [
       "0.5390070921985816"
      ]
     },
     "execution_count": 13,
     "metadata": {},
     "output_type": "execute_result"
    }
   ],
   "source": [
    "# Prob of cancellation in no-credit-card group\n",
    "no_card_df = df.loc[df.experiment_group == \"no-credit-card\"]\n",
    "n_no_card = no_card_df.shape[0]\n",
    "n_appoint_no_card = no_card_df['cx_appointment_at'].count()\n",
    "\n",
    "P_appoint_no_card = n_appoint_no_card / n_no_card\n",
    "P_appoint_no_card"
   ]
  },
  {
   "cell_type": "markdown",
   "id": "aad95bd1",
   "metadata": {},
   "source": [
    "c. Given that an individual was in the `with-credit-card` group, what is the probability they cancelled an appointment? $P(cancellations | with-credit-card)$"
   ]
  },
  {
   "cell_type": "code",
   "execution_count": 14,
   "id": "3ff4679f",
   "metadata": {},
   "outputs": [
    {
     "data": {
      "text/plain": [
       "0.44554455445544555"
      ]
     },
     "execution_count": 14,
     "metadata": {},
     "output_type": "execute_result"
    }
   ],
   "source": [
    "# Prob of concellaton in with-credit-card group\n",
    "with_card_df = df.loc[df.experiment_group == \"with-credit-card\"]\n",
    "n_with_card = with_card_df.shape[0]\n",
    "n_appoint_with_card = with_card_df['cx_appointment_at'].count()\n",
    "\n",
    "P_appoint_with_card = n_appoint_with_card / n_with_card\n",
    "P_appoint_with_card"
   ]
  },
  {
   "cell_type": "code",
   "execution_count": 15,
   "id": "a5b562f6",
   "metadata": {},
   "outputs": [
    {
     "name": "stdout",
     "output_type": "stream",
     "text": [
      "Summary of dataset\n",
      "  Total samples of\n",
      "\t- total number of patients: 242\n",
      "\t-   no-card-card size: 141\n",
      "\t-   with-credit-card size: 101\n",
      "\t- appointments: 121\n",
      "\t-   appointments in no_card set: 76\n",
      "\t-   appointments in with_card set: 45\n",
      "  Probabilities \n",
      "  Our best estimations of these probabilities, are the following proportions:\n",
      "\t- of appointment regardles of group: 50.0%\n",
      "\t- of appointment in no-credit-card group: 53.9%\n",
      "\t- of appointment in with-credit-card group: 44.55%\n",
      "  The difference in probability between the two groups is: 9.35%\n"
     ]
    }
   ],
   "source": [
    "print(\"Summary of dataset\")\n",
    "print(\"  Total samples of\")\n",
    "print(\"\\t- total number of patients: \" + str(n_users))\n",
    "print(\"\\t-   no-card-card size: \" + str(n_no_card))\n",
    "print(\"\\t-   with-credit-card size: \" + str(n_with_card))\n",
    "print(\"\\t- appointments: \" + str(total_appoint))\n",
    "print(\"\\t-   appointments in no_card set: \" + str(n_appoint_no_card))\n",
    "print(\"\\t-   appointments in with_card set: \" + str(n_appoint_with_card))\n",
    "print(\"  Probabilities \\n  Our best estimations of these probabilities, are the following proportions:\")\n",
    "print(\"\\t- of appointment regardles of group: \" + str(round(Pappoint*100,2)) + \"%\")\n",
    "print(\"\\t- of appointment in no-credit-card group: \" + str(round(P_appoint_no_card*100,2)) + \"%\")\n",
    "print(\"\\t- of appointment in with-credit-card group: \" + str(round(P_appoint_with_card*100,2)) + \"%\")\n",
    "d = round((P_appoint_no_card*100 - P_appoint_with_card*100),2)\n",
    "print(\"  The difference in probability between the two groups is: \" + str(d) + \"%\")"
   ]
  },
  {
   "cell_type": "markdown",
   "id": "4c73d696",
   "metadata": {},
   "source": [
    "**Conclusion:** Using the web page which does not askes for credit card details during signup results in higher probability of patient ending up having an appointment (53.9%) compared with using the page which does (44.55%). The difference between the two groups is 9.35%."
   ]
  },
  {
   "cell_type": "markdown",
   "id": "0fd89b57",
   "metadata": {},
   "source": [
    "# Marginal and conditional probabilities for \"show\" / \"no show\" at appointments\n",
    "\n",
    "Below I will attempt to compute the best estimate of marginal and conditional probabilities for appointment \"show\" / \"no show\".\n",
    "\n",
    "a. Because here there are two events to take into account I will take a different approach. I will start with the crosstab dataframe to see the figures in one shot."
   ]
  },
  {
   "cell_type": "code",
   "execution_count": 16,
   "id": "f5eadd8b",
   "metadata": {},
   "outputs": [
    {
     "data": {
      "text/html": [
       "<div>\n",
       "<style scoped>\n",
       "    .dataframe tbody tr th:only-of-type {\n",
       "        vertical-align: middle;\n",
       "    }\n",
       "\n",
       "    .dataframe tbody tr th {\n",
       "        vertical-align: top;\n",
       "    }\n",
       "\n",
       "    .dataframe thead th {\n",
       "        text-align: right;\n",
       "    }\n",
       "</style>\n",
       "<table border=\"1\" class=\"dataframe\">\n",
       "  <thead>\n",
       "    <tr style=\"text-align: right;\">\n",
       "      <th>appointment_attendance</th>\n",
       "      <th>experiment_group</th>\n",
       "      <th>patient-no-show</th>\n",
       "      <th>patient-show</th>\n",
       "    </tr>\n",
       "  </thead>\n",
       "  <tbody>\n",
       "    <tr>\n",
       "      <th>0</th>\n",
       "      <td>no-credit-card</td>\n",
       "      <td>7</td>\n",
       "      <td>69</td>\n",
       "    </tr>\n",
       "    <tr>\n",
       "      <th>1</th>\n",
       "      <td>with-credit-card</td>\n",
       "      <td>7</td>\n",
       "      <td>38</td>\n",
       "    </tr>\n",
       "  </tbody>\n",
       "</table>\n",
       "</div>"
      ],
      "text/plain": [
       "appointment_attendance  experiment_group  patient-no-show  patient-show\n",
       "0                         no-credit-card                7            69\n",
       "1                       with-credit-card                7            38"
      ]
     },
     "execution_count": 16,
     "metadata": {},
     "output_type": "execute_result"
    }
   ],
   "source": [
    "appoint_count = pd.crosstab(df['experiment_group'],df['appointment_attendance']).reset_index()   #.plot(kind='bar')\n",
    "appoint_count"
   ]
  },
  {
   "cell_type": "code",
   "execution_count": 17,
   "id": "0d353925",
   "metadata": {},
   "outputs": [
    {
     "data": {
      "text/plain": [
       "121"
      ]
     },
     "execution_count": 17,
     "metadata": {},
     "output_type": "execute_result"
    }
   ],
   "source": [
    "7+7+69+38   #quickly computing the total of events"
   ]
  },
  {
   "cell_type": "markdown",
   "id": "22ba30d4",
   "metadata": {},
   "source": [
    "b. Making a copy of the table to compute the probability of each event"
   ]
  },
  {
   "cell_type": "code",
   "execution_count": 18,
   "id": "3d3b3b46",
   "metadata": {},
   "outputs": [],
   "source": [
    "appoint_prob = appoint_count.copy() #making a copy of the table to compute the"
   ]
  },
  {
   "cell_type": "code",
   "execution_count": 19,
   "id": "5298b115",
   "metadata": {},
   "outputs": [
    {
     "data": {
      "text/html": [
       "<div>\n",
       "<style scoped>\n",
       "    .dataframe tbody tr th:only-of-type {\n",
       "        vertical-align: middle;\n",
       "    }\n",
       "\n",
       "    .dataframe tbody tr th {\n",
       "        vertical-align: top;\n",
       "    }\n",
       "\n",
       "    .dataframe thead th {\n",
       "        text-align: right;\n",
       "    }\n",
       "</style>\n",
       "<table border=\"1\" class=\"dataframe\">\n",
       "  <thead>\n",
       "    <tr style=\"text-align: right;\">\n",
       "      <th>appointment_attendance</th>\n",
       "      <th>experiment_group</th>\n",
       "      <th>P_patient-no-show</th>\n",
       "      <th>P_patient-show</th>\n",
       "    </tr>\n",
       "  </thead>\n",
       "  <tbody>\n",
       "    <tr>\n",
       "      <th>0</th>\n",
       "      <td>no-credit-card</td>\n",
       "      <td>0.057851</td>\n",
       "      <td>0.570248</td>\n",
       "    </tr>\n",
       "    <tr>\n",
       "      <th>1</th>\n",
       "      <td>with-credit-card</td>\n",
       "      <td>0.057851</td>\n",
       "      <td>0.314050</td>\n",
       "    </tr>\n",
       "  </tbody>\n",
       "</table>\n",
       "</div>"
      ],
      "text/plain": [
       "appointment_attendance  experiment_group  P_patient-no-show  P_patient-show\n",
       "0                         no-credit-card           0.057851        0.570248\n",
       "1                       with-credit-card           0.057851        0.314050"
      ]
     },
     "execution_count": 19,
     "metadata": {},
     "output_type": "execute_result"
    }
   ],
   "source": [
    "appoint_prob[\"patient-no-show\"] /= 121\n",
    "appoint_prob[\"patient-show\"] /= 121\n",
    "appoint_prob.rename(columns = {'patient-no-show':'P_patient-no-show', 'patient-show':'P_patient-show'}, inplace = True)\n",
    "appoint_prob"
   ]
  },
  {
   "cell_type": "markdown",
   "id": "2f010290",
   "metadata": {},
   "source": [
    "Adding one more row to compute probability of show / no-show irrespective of group."
   ]
  },
  {
   "cell_type": "code",
   "execution_count": 20,
   "id": "a98dd207",
   "metadata": {},
   "outputs": [
    {
     "data": {
      "text/plain": [
       "0.11570247933884298"
      ]
     },
     "execution_count": 20,
     "metadata": {},
     "output_type": "execute_result"
    }
   ],
   "source": [
    "P_no_show = appoint_count['patient-no-show'].sum()/121\n",
    "P_no_show"
   ]
  },
  {
   "cell_type": "code",
   "execution_count": 21,
   "id": "ba8cd3ad",
   "metadata": {},
   "outputs": [
    {
     "data": {
      "text/plain": [
       "0.8842975206611571"
      ]
     },
     "execution_count": 21,
     "metadata": {},
     "output_type": "execute_result"
    }
   ],
   "source": [
    "P_show = appoint_count['patient-show'].sum()/121\n",
    "P_show"
   ]
  },
  {
   "cell_type": "code",
   "execution_count": 22,
   "id": "2ba4dbed",
   "metadata": {},
   "outputs": [
    {
     "data": {
      "text/plain": [
       "Index(['experiment_group', 'P_patient-no-show', 'P_patient-show'], dtype='object', name='appointment_attendance')"
      ]
     },
     "execution_count": 22,
     "metadata": {},
     "output_type": "execute_result"
    }
   ],
   "source": [
    "appoint_prob.columns"
   ]
  },
  {
   "cell_type": "code",
   "execution_count": 23,
   "id": "05d3e407",
   "metadata": {},
   "outputs": [],
   "source": [
    "appoint_prob_ = appoint_prob.append({'experiment_group':'both', 'P_patient-no-show':P_no_show, 'P_patient-show':P_show}, ignore_index=True)"
   ]
  },
  {
   "cell_type": "code",
   "execution_count": 24,
   "id": "72ff2e34",
   "metadata": {},
   "outputs": [
    {
     "data": {
      "text/html": [
       "<div>\n",
       "<style scoped>\n",
       "    .dataframe tbody tr th:only-of-type {\n",
       "        vertical-align: middle;\n",
       "    }\n",
       "\n",
       "    .dataframe tbody tr th {\n",
       "        vertical-align: top;\n",
       "    }\n",
       "\n",
       "    .dataframe thead th {\n",
       "        text-align: right;\n",
       "    }\n",
       "</style>\n",
       "<table border=\"1\" class=\"dataframe\">\n",
       "  <thead>\n",
       "    <tr style=\"text-align: right;\">\n",
       "      <th></th>\n",
       "      <th>experiment_group</th>\n",
       "      <th>P_patient-no-show</th>\n",
       "      <th>P_patient-show</th>\n",
       "    </tr>\n",
       "  </thead>\n",
       "  <tbody>\n",
       "    <tr>\n",
       "      <th>0</th>\n",
       "      <td>no-credit-card</td>\n",
       "      <td>0.057851</td>\n",
       "      <td>0.570248</td>\n",
       "    </tr>\n",
       "    <tr>\n",
       "      <th>1</th>\n",
       "      <td>with-credit-card</td>\n",
       "      <td>0.057851</td>\n",
       "      <td>0.314050</td>\n",
       "    </tr>\n",
       "    <tr>\n",
       "      <th>2</th>\n",
       "      <td>both</td>\n",
       "      <td>0.115702</td>\n",
       "      <td>0.884298</td>\n",
       "    </tr>\n",
       "  </tbody>\n",
       "</table>\n",
       "</div>"
      ],
      "text/plain": [
       "   experiment_group  P_patient-no-show  P_patient-show\n",
       "0    no-credit-card           0.057851        0.570248\n",
       "1  with-credit-card           0.057851        0.314050\n",
       "2              both           0.115702        0.884298"
      ]
     },
     "execution_count": 24,
     "metadata": {},
     "output_type": "execute_result"
    }
   ],
   "source": [
    "appoint_prob_.to_csv('show_noshow_prob.csv')\n",
    "appoint_prob_"
   ]
  },
  {
   "cell_type": "code",
   "execution_count": 25,
   "id": "c9896ead",
   "metadata": {},
   "outputs": [
    {
     "data": {
      "text/html": [
       "<div>\n",
       "<style scoped>\n",
       "    .dataframe tbody tr th:only-of-type {\n",
       "        vertical-align: middle;\n",
       "    }\n",
       "\n",
       "    .dataframe tbody tr th {\n",
       "        vertical-align: top;\n",
       "    }\n",
       "\n",
       "    .dataframe thead th {\n",
       "        text-align: right;\n",
       "    }\n",
       "</style>\n",
       "<table border=\"1\" class=\"dataframe\">\n",
       "  <thead>\n",
       "    <tr style=\"text-align: right;\">\n",
       "      <th></th>\n",
       "      <th>experiment_group</th>\n",
       "      <th>P_patient-no-show</th>\n",
       "      <th>P_patient-show</th>\n",
       "    </tr>\n",
       "  </thead>\n",
       "  <tbody>\n",
       "    <tr>\n",
       "      <th>0</th>\n",
       "      <td>no-credit-card</td>\n",
       "      <td>0.057851</td>\n",
       "      <td>0.570248</td>\n",
       "    </tr>\n",
       "    <tr>\n",
       "      <th>1</th>\n",
       "      <td>with-credit-card</td>\n",
       "      <td>0.057851</td>\n",
       "      <td>0.314050</td>\n",
       "    </tr>\n",
       "    <tr>\n",
       "      <th>2</th>\n",
       "      <td>both</td>\n",
       "      <td>0.115702</td>\n",
       "      <td>0.884298</td>\n",
       "    </tr>\n",
       "  </tbody>\n",
       "</table>\n",
       "</div>"
      ],
      "text/plain": [
       "   experiment_group  P_patient-no-show  P_patient-show\n",
       "0    no-credit-card           0.057851        0.570248\n",
       "1  with-credit-card           0.057851        0.314050\n",
       "2              both           0.115702        0.884298"
      ]
     },
     "execution_count": 25,
     "metadata": {},
     "output_type": "execute_result"
    }
   ],
   "source": [
    "appoint_prob_"
   ]
  },
  {
   "cell_type": "markdown",
   "id": "6e5d34e6",
   "metadata": {},
   "source": [
    "**The probabilities showing above are relative to all apointments. To compute the probability of show or no-show in each group relative to it's size I will plot pie charts for each group.**"
   ]
  },
  {
   "cell_type": "code",
   "execution_count": 26,
   "id": "9a833331",
   "metadata": {},
   "outputs": [
    {
     "data": {
      "text/plain": [
       "<AxesSubplot:title={'center':'no-credit-card'}, ylabel='0'>"
      ]
     },
     "execution_count": 26,
     "metadata": {},
     "output_type": "execute_result"
    },
    {
     "data": {
      "image/png": "[encoded data removed]",
      "text/plain": [
       "<Figure size 432x288 with 1 Axes>"
      ]
     },
     "metadata": {},
     "output_type": "display_data"
    }
   ],
   "source": [
    "appoint_prob_.iloc[0,1:].plot(kind=\"pie\", autopct='%1.0f%%', title='no-credit-card')  #plotting only index 0 (no-credit-card)"
   ]
  },
  {
   "cell_type": "code",
   "execution_count": 27,
   "id": "4cca013d",
   "metadata": {},
   "outputs": [
    {
     "data": {
      "text/plain": [
       "<AxesSubplot:title={'center':'with-credit-card'}, ylabel='1'>"
      ]
     },
     "execution_count": 27,
     "metadata": {},
     "output_type": "execute_result"
    },
    {
     "data": {
      "image/png": "[encoded data removed]",
      "text/plain": [
       "<Figure size 432x288 with 1 Axes>"
      ]
     },
     "metadata": {},
     "output_type": "display_data"
    }
   ],
   "source": [
    "appoint_prob_.iloc[1,1:].plot(kind=\"pie\", autopct='%1.0f%%', title='with-credit-card') #plotting only index 1 (with-credit-card)"
   ]
  },
  {
   "cell_type": "markdown",
   "id": "050a34b0",
   "metadata": {},
   "source": [
    "# Marginal and conditional probabilities for conversion"
   ]
  },
  {
   "cell_type": "markdown",
   "id": "d99403cb",
   "metadata": {},
   "source": [
    "Below I will attempt to compute the best estimate of marginal and conditional probabilities for conversion. It is important to note that it is not possible to compute the real probability, but it is possible to compute an estimation of that.\n",
    "\n",
    "a. What is the probability of an individual converting regardless of the page they receive? $P(conversion)$"
   ]
  },
  {
   "cell_type": "code",
   "execution_count": 28,
   "id": "39b5e62a",
   "metadata": {},
   "outputs": [
    {
     "data": {
      "text/plain": [
       "0.049586776859504134"
      ]
     },
     "execution_count": 28,
     "metadata": {},
     "output_type": "execute_result"
    }
   ],
   "source": [
    "n_users = df.shape[0]\n",
    "total_conversions = (df.loc[df.converted == 1].converted.count())\n",
    "\n",
    "# Prob of conversion regardless of the page\n",
    "Pconv = total_conversions / n_users\n",
    "Pconv"
   ]
  },
  {
   "cell_type": "markdown",
   "id": "18d63639",
   "metadata": {},
   "source": [
    "b. Given that an individual was in the `no-credit-card` group, what is the probability they converted? $P(conversion | no-credit-card)$"
   ]
  },
  {
   "cell_type": "code",
   "execution_count": 29,
   "id": "b542ab7d",
   "metadata": {},
   "outputs": [
    {
     "data": {
      "text/plain": [
       "0.0425531914893617"
      ]
     },
     "execution_count": 29,
     "metadata": {},
     "output_type": "execute_result"
    }
   ],
   "source": [
    "# Prob of conversion in no-credit-card group\n",
    "no_card_df = df.loc[df.experiment_group == \"no-credit-card\"]\n",
    "n_no_card = no_card_df.shape[0]\n",
    "n_conv_no_card = no_card_df['converted'].sum()\n",
    "\n",
    "P_conv_no_card = n_conv_no_card / n_no_card\n",
    "P_conv_no_card"
   ]
  },
  {
   "cell_type": "markdown",
   "id": "51d16fce",
   "metadata": {},
   "source": [
    "c. Given that an individual was in the `with-credit-card` group, what is the probability they converted? $P(conversion | with-credit-card)$"
   ]
  },
  {
   "cell_type": "code",
   "execution_count": 30,
   "id": "9fb072f8",
   "metadata": {},
   "outputs": [
    {
     "data": {
      "text/plain": [
       "0.0594059405940594"
      ]
     },
     "execution_count": 30,
     "metadata": {},
     "output_type": "execute_result"
    }
   ],
   "source": [
    "# Prob of conversion in with-credit-card group\n",
    "with_card_df = df.loc[df.experiment_group == \"with-credit-card\"]\n",
    "n_with_card = with_card_df.shape[0]\n",
    "n_conv_with_card = with_card_df['converted'].sum()\n",
    "\n",
    "P_conv_with_card = n_conv_with_card / n_with_card\n",
    "P_conv_with_card"
   ]
  },
  {
   "cell_type": "markdown",
   "id": "22bbe710",
   "metadata": {},
   "source": [
    "d. What is the probability that an individual received the `with-credit-card page`? $P(with-credit-card)$"
   ]
  },
  {
   "cell_type": "code",
   "execution_count": 31,
   "id": "1294fa14",
   "metadata": {},
   "outputs": [
    {
     "data": {
      "text/plain": [
       "0.41735537190082644"
      ]
     },
     "execution_count": 31,
     "metadata": {},
     "output_type": "execute_result"
    }
   ],
   "source": [
    "# Prob of receiving with-credit-card page\n",
    "P_with_card = n_with_card /n_users\n",
    "P_with_card"
   ]
  },
  {
   "cell_type": "code",
   "execution_count": 32,
   "id": "bd5355d3",
   "metadata": {},
   "outputs": [
    {
     "name": "stdout",
     "output_type": "stream",
     "text": [
      "Summary of dataset\n",
      "  Total samples of\n",
      "\t- the data set: 242\n",
      "\t-   with-credit-card size: 101\n",
      "\t-   no-card-card size: 141\n",
      "\t- conversion: 12\n",
      "\t-   conversion in no_card set: 6\n",
      "\t-   conversion in with_card set: 6\n",
      "  Probabilities \n",
      "  Our best estimations of these probabilities, are the following proportions:\n",
      "\t- of conversion regardles of group: 4.96%\n",
      "\t- of conversion in no-credit-card group: 4.26%\n",
      "\t- of conversion in with-credit-card group: 5.94%\n",
      "\t- of receiving with-credit-card page: 41.74%\n"
     ]
    }
   ],
   "source": [
    "print(\"Summary of dataset\")\n",
    "print(\"  Total samples of\")\n",
    "print(\"\\t- the data set: \" + str(n_users))\n",
    "print(\"\\t-   with-credit-card size: \" + str(n_with_card))\n",
    "print(\"\\t-   no-card-card size: \" + str(n_no_card))\n",
    "print(\"\\t- conversion: \" + str(total_conversions))\n",
    "print(\"\\t-   conversion in no_card set: \" + str(n_conv_no_card))\n",
    "print(\"\\t-   conversion in with_card set: \" + str(n_conv_with_card))\n",
    "print(\"  Probabilities \\n  Our best estimations of these probabilities, are the following proportions:\")\n",
    "print(\"\\t- of conversion regardles of group: \" + str(round(Pconv*100,2)) + \"%\")\n",
    "print(\"\\t- of conversion in no-credit-card group: \" + str(round(P_conv_no_card*100,2)) + \"%\")\n",
    "print(\"\\t- of conversion in with-credit-card group: \" + str(round(P_conv_with_card*100,2)) + \"%\")\n",
    "print(\"\\t- of receiving with-credit-card page: \" + str(round(P_with_card*100,2)) + \"%\")"
   ]
  },
  {
   "cell_type": "markdown",
   "id": "0324bc07",
   "metadata": {},
   "source": [
    "**Conclusions:** Using the web page which askes for credit card details during signup results in higher probability of conversion (5.94%) compared with using the page which does not (4.26%). However, the probability of patient receiving the with-credit-card page was just over 40%. It is not possible to conclude with the dataset provided whether patients had indeed lesser chance of receinging the with-credit-card page or whether this version prevented some patients from signing up resulting with those with more serious intentions of receiving the procedure to go ahead. It would be advisable to compare this data with the overall trafic on each version of the page or perhaps to repeat the experiment and compare results."
   ]
  },
  {
   "cell_type": "markdown",
   "id": "02b35b9d",
   "metadata": {},
   "source": [
    "# Hypotesis Test"
   ]
  },
  {
   "cell_type": "code",
   "execution_count": 33,
   "id": "ffe2dc94",
   "metadata": {},
   "outputs": [
    {
     "name": "stdout",
     "output_type": "stream",
     "text": [
      "\tProbability of conversion when using with-credit-card page: 0.0594\n",
      "\tProbability of conversion when using no-credit-card page: 0.0426\n",
      "\n",
      "\tDifference between the two probabilities: 0.0169\n"
     ]
    }
   ],
   "source": [
    "print(\"\\tProbability of conversion when using with-credit-card page: \" + str(round(P_conv_with_card,4)))\n",
    "print(\"\\tProbability of conversion when using no-credit-card page: \" + str(round(P_conv_no_card,4)))\n",
    "print(\"\\n\\tDifference between the two probabilities: \" + str(round((P_conv_with_card-P_conv_no_card),4)))"
   ]
  },
  {
   "cell_type": "markdown",
   "id": "0177f188",
   "metadata": {},
   "source": [
    "Let's do a hypohesis test to clearly detect if the difference is statistically significant.\n",
    "\n",
    "Does this difference justify to assume that with-credit-card page resulted in better conversion than no-credit-card one? In other words, with a 5% of significance, can we keep assuming that this is true?\n",
    "\n",
    "---\n",
    "**Define the null and alternative hypothesis**\n",
    "\n",
    "$H_0$: P(conversion of with-credit-card) - P(conversion of no-credit-card) > 0\n",
    "\n",
    "$H_A$: P(conversion of with-credit-card) - P(conversion of no-credit-card) <= 0\n",
    "\n",
    "For this, let's use `stats.proportions_ztest` to compute your test statistic and p-value."
   ]
  },
  {
   "cell_type": "code",
   "execution_count": 34,
   "id": "23b035f3",
   "metadata": {},
   "outputs": [
    {
     "data": {
      "text/plain": [
       "(0.5955169682054368, 0.27574898013008986)"
      ]
     },
     "execution_count": 34,
     "metadata": {},
     "output_type": "execute_result"
    }
   ],
   "source": [
    "import statsmodels.api as sm\n",
    "\n",
    "z_score, p_value = sm.stats.proportions_ztest([n_conv_with_card, n_conv_no_card], [n_with_card, n_no_card], alternative='larger')\n",
    "z_score, p_value"
   ]
  },
  {
   "cell_type": "code",
   "execution_count": 35,
   "id": "ebc160e2",
   "metadata": {},
   "outputs": [
    {
     "name": "stdout",
     "output_type": "stream",
     "text": [
      "With a p-value of 0.2757 the difference is NOT significant\n",
      "\n",
      "\n",
      "We fail to reject the null hypothesis\n"
     ]
    }
   ],
   "source": [
    "if p_value < 0.05 :\n",
    "    print(f'Since the p-value is much less than significance level the difference is significant')\n",
    "    print()\n",
    "    print('\\n We reject the null hypothesis')\n",
    "    \n",
    "else:\n",
    "    print(f'With a p-value of {round(p_value,4)} the difference is NOT significant')\n",
    "    print()\n",
    "    print('\\nWe fail to reject the null hypothesis')"
   ]
  },
  {
   "cell_type": "markdown",
   "id": "fc966467",
   "metadata": {},
   "source": [
    "Conclusions: The hypothesis test failed to reject the null hypothesis which means that the with-credit-card page resulted in better conversion rate than no-credit-card one."
   ]
  },
  {
   "cell_type": "markdown",
   "id": "a8efd184",
   "metadata": {},
   "source": [
    "# Creating a dataframe with all probabilities for visualisation"
   ]
  },
  {
   "cell_type": "code",
   "execution_count": 36,
   "id": "c7a74b41",
   "metadata": {},
   "outputs": [
    {
     "data": {
      "text/html": [
       "<div>\n",
       "<style scoped>\n",
       "    .dataframe tbody tr th:only-of-type {\n",
       "        vertical-align: middle;\n",
       "    }\n",
       "\n",
       "    .dataframe tbody tr th {\n",
       "        vertical-align: top;\n",
       "    }\n",
       "\n",
       "    .dataframe thead th {\n",
       "        text-align: right;\n",
       "    }\n",
       "</style>\n",
       "<table border=\"1\" class=\"dataframe\">\n",
       "  <thead>\n",
       "    <tr style=\"text-align: right;\">\n",
       "      <th></th>\n",
       "      <th>Event</th>\n",
       "      <th>Both groups</th>\n",
       "      <th>no_credit_card</th>\n",
       "      <th>with_credit_card</th>\n",
       "    </tr>\n",
       "  </thead>\n",
       "  <tbody>\n",
       "    <tr>\n",
       "      <th>0</th>\n",
       "      <td>Booking</td>\n",
       "      <td>0.553719</td>\n",
       "      <td>0.595745</td>\n",
       "      <td>0.495050</td>\n",
       "    </tr>\n",
       "    <tr>\n",
       "      <th>1</th>\n",
       "      <td>Cancellation</td>\n",
       "      <td>0.066116</td>\n",
       "      <td>0.070922</td>\n",
       "      <td>0.059406</td>\n",
       "    </tr>\n",
       "    <tr>\n",
       "      <th>2</th>\n",
       "      <td>Consultation</td>\n",
       "      <td>0.500000</td>\n",
       "      <td>0.539007</td>\n",
       "      <td>0.445545</td>\n",
       "    </tr>\n",
       "    <tr>\n",
       "      <th>3</th>\n",
       "      <td>Surgery</td>\n",
       "      <td>0.049587</td>\n",
       "      <td>0.042553</td>\n",
       "      <td>0.059406</td>\n",
       "    </tr>\n",
       "  </tbody>\n",
       "</table>\n",
       "</div>"
      ],
      "text/plain": [
       "          Event  Both groups  no_credit_card  with_credit_card\n",
       "0       Booking     0.553719        0.595745          0.495050\n",
       "1  Cancellation     0.066116        0.070922          0.059406\n",
       "2  Consultation     0.500000        0.539007          0.445545\n",
       "3       Surgery     0.049587        0.042553          0.059406"
      ]
     },
     "execution_count": 36,
     "metadata": {},
     "output_type": "execute_result"
    }
   ],
   "source": [
    "prob=({'Event':['Booking','Cancellation','Consultation','Surgery'],\n",
    "      'Both groups':[Pbooking,Pcancellation,Pappoint,Pconv],\n",
    "      'no_credit_card':[P_booking_no_card,P_cancellation_no_card,P_appoint_no_card,P_conv_no_card],\n",
    "      'with_credit_card':[P_booking_with_card,P_cancellation_with_card,P_appoint_with_card,P_conv_with_card]})\n",
    "\n",
    "df_p=pd.DataFrame(prob)\n",
    "df_p"
   ]
  },
  {
   "cell_type": "code",
   "execution_count": 37,
   "id": "e273cc94",
   "metadata": {},
   "outputs": [
    {
     "data": {
      "text/html": [
       "<div>\n",
       "<style scoped>\n",
       "    .dataframe tbody tr th:only-of-type {\n",
       "        vertical-align: middle;\n",
       "    }\n",
       "\n",
       "    .dataframe tbody tr th {\n",
       "        vertical-align: top;\n",
       "    }\n",
       "\n",
       "    .dataframe thead th {\n",
       "        text-align: right;\n",
       "    }\n",
       "</style>\n",
       "<table border=\"1\" class=\"dataframe\">\n",
       "  <thead>\n",
       "    <tr style=\"text-align: right;\">\n",
       "      <th></th>\n",
       "      <th>Event</th>\n",
       "      <th>Both groups</th>\n",
       "      <th>no_credit_card</th>\n",
       "      <th>with_credit_card</th>\n",
       "      <th>Difference</th>\n",
       "    </tr>\n",
       "  </thead>\n",
       "  <tbody>\n",
       "    <tr>\n",
       "      <th>0</th>\n",
       "      <td>Booking</td>\n",
       "      <td>0.553719</td>\n",
       "      <td>0.595745</td>\n",
       "      <td>0.495050</td>\n",
       "      <td>0.100695</td>\n",
       "    </tr>\n",
       "    <tr>\n",
       "      <th>1</th>\n",
       "      <td>Cancellation</td>\n",
       "      <td>0.066116</td>\n",
       "      <td>0.070922</td>\n",
       "      <td>0.059406</td>\n",
       "      <td>0.011516</td>\n",
       "    </tr>\n",
       "    <tr>\n",
       "      <th>2</th>\n",
       "      <td>Consultation</td>\n",
       "      <td>0.500000</td>\n",
       "      <td>0.539007</td>\n",
       "      <td>0.445545</td>\n",
       "      <td>0.093463</td>\n",
       "    </tr>\n",
       "    <tr>\n",
       "      <th>3</th>\n",
       "      <td>Surgery</td>\n",
       "      <td>0.049587</td>\n",
       "      <td>0.042553</td>\n",
       "      <td>0.059406</td>\n",
       "      <td>-0.016853</td>\n",
       "    </tr>\n",
       "  </tbody>\n",
       "</table>\n",
       "</div>"
      ],
      "text/plain": [
       "          Event  Both groups  no_credit_card  with_credit_card  Difference\n",
       "0       Booking     0.553719        0.595745          0.495050    0.100695\n",
       "1  Cancellation     0.066116        0.070922          0.059406    0.011516\n",
       "2  Consultation     0.500000        0.539007          0.445545    0.093463\n",
       "3       Surgery     0.049587        0.042553          0.059406   -0.016853"
      ]
     },
     "execution_count": 37,
     "metadata": {},
     "output_type": "execute_result"
    }
   ],
   "source": [
    "df_p['Difference'] = (df_p['no_credit_card'] - df_p['with_credit_card'])\n",
    "df_p"
   ]
  },
  {
   "cell_type": "code",
   "execution_count": 38,
   "id": "00d67be7",
   "metadata": {},
   "outputs": [],
   "source": [
    "df_p['Both groups'] = round(df_p['Both groups']*100,2)\n",
    "df_p['no_credit_card'] = round(df_p['no_credit_card']*100,2)\n",
    "df_p['with_credit_card'] = round(df_p['with_credit_card']*100,2)\n",
    "df_p['Difference'] = round(df_p['Difference']*100,2)"
   ]
  },
  {
   "cell_type": "code",
   "execution_count": 39,
   "id": "685f2493",
   "metadata": {},
   "outputs": [
    {
     "data": {
      "text/html": [
       "<div>\n",
       "<style scoped>\n",
       "    .dataframe tbody tr th:only-of-type {\n",
       "        vertical-align: middle;\n",
       "    }\n",
       "\n",
       "    .dataframe tbody tr th {\n",
       "        vertical-align: top;\n",
       "    }\n",
       "\n",
       "    .dataframe thead th {\n",
       "        text-align: right;\n",
       "    }\n",
       "</style>\n",
       "<table border=\"1\" class=\"dataframe\">\n",
       "  <thead>\n",
       "    <tr style=\"text-align: right;\">\n",
       "      <th></th>\n",
       "      <th>Event</th>\n",
       "      <th>Both groups</th>\n",
       "      <th>no_credit_card</th>\n",
       "      <th>with_credit_card</th>\n",
       "      <th>Difference</th>\n",
       "    </tr>\n",
       "  </thead>\n",
       "  <tbody>\n",
       "    <tr>\n",
       "      <th>0</th>\n",
       "      <td>Booking</td>\n",
       "      <td>55.37</td>\n",
       "      <td>59.57</td>\n",
       "      <td>49.50</td>\n",
       "      <td>10.07</td>\n",
       "    </tr>\n",
       "    <tr>\n",
       "      <th>1</th>\n",
       "      <td>Cancellation</td>\n",
       "      <td>6.61</td>\n",
       "      <td>7.09</td>\n",
       "      <td>5.94</td>\n",
       "      <td>1.15</td>\n",
       "    </tr>\n",
       "    <tr>\n",
       "      <th>2</th>\n",
       "      <td>Consultation</td>\n",
       "      <td>50.00</td>\n",
       "      <td>53.90</td>\n",
       "      <td>44.55</td>\n",
       "      <td>9.35</td>\n",
       "    </tr>\n",
       "    <tr>\n",
       "      <th>3</th>\n",
       "      <td>Surgery</td>\n",
       "      <td>4.96</td>\n",
       "      <td>4.26</td>\n",
       "      <td>5.94</td>\n",
       "      <td>-1.69</td>\n",
       "    </tr>\n",
       "  </tbody>\n",
       "</table>\n",
       "</div>"
      ],
      "text/plain": [
       "          Event  Both groups  no_credit_card  with_credit_card  Difference\n",
       "0       Booking        55.37           59.57             49.50       10.07\n",
       "1  Cancellation         6.61            7.09              5.94        1.15\n",
       "2  Consultation        50.00           53.90             44.55        9.35\n",
       "3       Surgery         4.96            4.26              5.94       -1.69"
      ]
     },
     "execution_count": 39,
     "metadata": {},
     "output_type": "execute_result"
    }
   ],
   "source": [
    "df_p"
   ]
  },
  {
   "cell_type": "code",
   "execution_count": 40,
   "id": "26d3a2d8",
   "metadata": {},
   "outputs": [],
   "source": [
    "df_p.to_csv('events_stats.csv')"
   ]
  }
 ],
 "metadata": {
  "kernelspec": {
   "display_name": "Python 3 (ipykernel)",
   "language": "python",
   "name": "python3"
  },
  "language_info": {
   "codemirror_mode": {
    "name": "ipython",
    "version": 3
   },
   "file_extension": ".py",
   "mimetype": "text/x-python",
   "name": "python",
   "nbconvert_exporter": "python",
   "pygments_lexer": "ipython3",
   "version": "3.9.7"
  },
  "toc": {
   "base_numbering": 1,
   "nav_menu": {},
   "number_sections": true,
   "sideBar": true,
   "skip_h1_title": false,
   "title_cell": "Table of Contents",
   "title_sidebar": "Contents",
   "toc_cell": false,
   "toc_position": {},
   "toc_section_display": true,
   "toc_window_display": false
  }
 },
 "nbformat": 4,
 "nbformat_minor": 5
}
