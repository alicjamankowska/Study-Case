{
 "cells": [
  {
   "cell_type": "markdown",
   "id": "79d87112",
   "metadata": {},
   "source": [
    "# Loading Libraries"
   ]
  },
  {
   "cell_type": "code",
   "execution_count": 1,
   "id": "6eee26b6",
   "metadata": {},
   "outputs": [],
   "source": [
    "# Numpy and Pandas libraries\n",
    "import numpy as np\n",
    "import pandas as pd\n",
    "\n",
    "# Visualization libraries\n",
    "import plotly.graph_objects as go\n",
    "import seaborn as sns\n",
    "import matplotlib.pyplot as plt\n",
    "import matplotlib.dates as mdates\n",
    "import plotly.express as px\n",
    "import plotly.graph_objs as go\n",
    "import seaborn as sns\n",
    "\n",
    "import warnings\n",
    "warnings.filterwarnings('ignore')"
   ]
  },
  {
   "cell_type": "markdown",
   "id": "ae4a16ed",
   "metadata": {},
   "source": [
    "# Loading the data"
   ]
  },
  {
   "cell_type": "code",
   "execution_count": 2,
   "id": "2276d1e9",
   "metadata": {},
   "outputs": [
    {
     "data": {
      "text/html": [
       "<div>\n",
       "<style scoped>\n",
       "    .dataframe tbody tr th:only-of-type {\n",
       "        vertical-align: middle;\n",
       "    }\n",
       "\n",
       "    .dataframe tbody tr th {\n",
       "        vertical-align: top;\n",
       "    }\n",
       "\n",
       "    .dataframe thead th {\n",
       "        text-align: right;\n",
       "    }\n",
       "</style>\n",
       "<table border=\"1\" class=\"dataframe\">\n",
       "  <thead>\n",
       "    <tr style=\"text-align: right;\">\n",
       "      <th></th>\n",
       "      <th>patient_id</th>\n",
       "      <th>experiment_group</th>\n",
       "      <th>patient_created_at</th>\n",
       "      <th>first_cx_booked_at</th>\n",
       "      <th>first_cx_cancelled_at</th>\n",
       "      <th>cx_appointment_at</th>\n",
       "      <th>appointment_attendance</th>\n",
       "      <th>px_booked_at</th>\n",
       "    </tr>\n",
       "  </thead>\n",
       "  <tbody>\n",
       "    <tr>\n",
       "      <th>0</th>\n",
       "      <td>69522307739</td>\n",
       "      <td>with-credit-card</td>\n",
       "      <td>2019-12-20</td>\n",
       "      <td>2019-12-21</td>\n",
       "      <td>NaN</td>\n",
       "      <td>2020-01-11</td>\n",
       "      <td>patient-show</td>\n",
       "      <td>2020-01-13</td>\n",
       "    </tr>\n",
       "    <tr>\n",
       "      <th>1</th>\n",
       "      <td>931819353745</td>\n",
       "      <td>with-credit-card</td>\n",
       "      <td>2019-12-23</td>\n",
       "      <td>NaN</td>\n",
       "      <td>NaN</td>\n",
       "      <td>NaN</td>\n",
       "      <td>NaN</td>\n",
       "      <td>NaN</td>\n",
       "    </tr>\n",
       "    <tr>\n",
       "      <th>2</th>\n",
       "      <td>979634255142</td>\n",
       "      <td>with-credit-card</td>\n",
       "      <td>2019-12-19</td>\n",
       "      <td>2019-12-19</td>\n",
       "      <td>NaN</td>\n",
       "      <td>2020-01-05</td>\n",
       "      <td>patient-no-show</td>\n",
       "      <td>NaN</td>\n",
       "    </tr>\n",
       "    <tr>\n",
       "      <th>3</th>\n",
       "      <td>534016431925</td>\n",
       "      <td>with-credit-card</td>\n",
       "      <td>2019-12-22</td>\n",
       "      <td>NaN</td>\n",
       "      <td>NaN</td>\n",
       "      <td>NaN</td>\n",
       "      <td>NaN</td>\n",
       "      <td>NaN</td>\n",
       "    </tr>\n",
       "    <tr>\n",
       "      <th>4</th>\n",
       "      <td>934071204695</td>\n",
       "      <td>no-credit-card</td>\n",
       "      <td>2019-12-23</td>\n",
       "      <td>NaN</td>\n",
       "      <td>NaN</td>\n",
       "      <td>NaN</td>\n",
       "      <td>NaN</td>\n",
       "      <td>NaN</td>\n",
       "    </tr>\n",
       "    <tr>\n",
       "      <th>...</th>\n",
       "      <td>...</td>\n",
       "      <td>...</td>\n",
       "      <td>...</td>\n",
       "      <td>...</td>\n",
       "      <td>...</td>\n",
       "      <td>...</td>\n",
       "      <td>...</td>\n",
       "      <td>...</td>\n",
       "    </tr>\n",
       "    <tr>\n",
       "      <th>245</th>\n",
       "      <td>774314191241</td>\n",
       "      <td>with-credit-card</td>\n",
       "      <td>2019-12-17</td>\n",
       "      <td>2019-12-17</td>\n",
       "      <td>NaN</td>\n",
       "      <td>2019-12-18</td>\n",
       "      <td>patient-show</td>\n",
       "      <td>NaN</td>\n",
       "    </tr>\n",
       "    <tr>\n",
       "      <th>246</th>\n",
       "      <td>811952273739</td>\n",
       "      <td>with-credit-card</td>\n",
       "      <td>2019-12-22</td>\n",
       "      <td>NaN</td>\n",
       "      <td>NaN</td>\n",
       "      <td>NaN</td>\n",
       "      <td>patient-show</td>\n",
       "      <td>2020-01-21</td>\n",
       "    </tr>\n",
       "    <tr>\n",
       "      <th>247</th>\n",
       "      <td>370546689849</td>\n",
       "      <td>no-credit-card</td>\n",
       "      <td>2019-12-26</td>\n",
       "      <td>2019-12-26</td>\n",
       "      <td>NaN</td>\n",
       "      <td>2020-02-19</td>\n",
       "      <td>patient-show</td>\n",
       "      <td>2020-02-20</td>\n",
       "    </tr>\n",
       "    <tr>\n",
       "      <th>248</th>\n",
       "      <td>30550284109</td>\n",
       "      <td>with-credit-card</td>\n",
       "      <td>2019-12-22</td>\n",
       "      <td>NaN</td>\n",
       "      <td>NaN</td>\n",
       "      <td>NaN</td>\n",
       "      <td>NaN</td>\n",
       "      <td>NaN</td>\n",
       "    </tr>\n",
       "    <tr>\n",
       "      <th>249</th>\n",
       "      <td>892266759396</td>\n",
       "      <td>with-credit-card</td>\n",
       "      <td>2019-12-21</td>\n",
       "      <td>2019-12-21</td>\n",
       "      <td>NaN</td>\n",
       "      <td>2020-01-13</td>\n",
       "      <td>patient-no-show</td>\n",
       "      <td>NaN</td>\n",
       "    </tr>\n",
       "  </tbody>\n",
       "</table>\n",
       "<p>250 rows × 8 columns</p>\n",
       "</div>"
      ],
      "text/plain": [
       "       patient_id  experiment_group patient_created_at first_cx_booked_at  \\\n",
       "0     69522307739  with-credit-card         2019-12-20         2019-12-21   \n",
       "1    931819353745  with-credit-card         2019-12-23                NaN   \n",
       "2    979634255142  with-credit-card         2019-12-19         2019-12-19   \n",
       "3    534016431925  with-credit-card         2019-12-22                NaN   \n",
       "4    934071204695    no-credit-card         2019-12-23                NaN   \n",
       "..            ...               ...                ...                ...   \n",
       "245  774314191241  with-credit-card         2019-12-17         2019-12-17   \n",
       "246  811952273739  with-credit-card         2019-12-22                NaN   \n",
       "247  370546689849    no-credit-card         2019-12-26         2019-12-26   \n",
       "248   30550284109  with-credit-card         2019-12-22                NaN   \n",
       "249  892266759396  with-credit-card         2019-12-21         2019-12-21   \n",
       "\n",
       "    first_cx_cancelled_at cx_appointment_at appointment_attendance  \\\n",
       "0                     NaN        2020-01-11           patient-show   \n",
       "1                     NaN               NaN                    NaN   \n",
       "2                     NaN        2020-01-05        patient-no-show   \n",
       "3                     NaN               NaN                    NaN   \n",
       "4                     NaN               NaN                    NaN   \n",
       "..                    ...               ...                    ...   \n",
       "245                   NaN        2019-12-18           patient-show   \n",
       "246                   NaN               NaN           patient-show   \n",
       "247                   NaN        2020-02-19           patient-show   \n",
       "248                   NaN               NaN                    NaN   \n",
       "249                   NaN        2020-01-13        patient-no-show   \n",
       "\n",
       "    px_booked_at  \n",
       "0     2020-01-13  \n",
       "1            NaN  \n",
       "2            NaN  \n",
       "3            NaN  \n",
       "4            NaN  \n",
       "..           ...  \n",
       "245          NaN  \n",
       "246   2020-01-21  \n",
       "247   2020-02-20  \n",
       "248          NaN  \n",
       "249          NaN  \n",
       "\n",
       "[250 rows x 8 columns]"
      ]
     },
     "execution_count": 2,
     "metadata": {},
     "output_type": "execute_result"
    }
   ],
   "source": [
    "df = pd.read_csv('study_case.csv')\n",
    "df"
   ]
  },
  {
   "cell_type": "code",
   "execution_count": 3,
   "id": "f5127aea",
   "metadata": {
    "scrolled": true
   },
   "outputs": [
    {
     "name": "stdout",
     "output_type": "stream",
     "text": [
      "<class 'pandas.core.frame.DataFrame'>\n",
      "RangeIndex: 250 entries, 0 to 249\n",
      "Data columns (total 8 columns):\n",
      " #   Column                  Non-Null Count  Dtype \n",
      "---  ------                  --------------  ----- \n",
      " 0   patient_id              250 non-null    int64 \n",
      " 1   experiment_group        250 non-null    object\n",
      " 2   patient_created_at      249 non-null    object\n",
      " 3   first_cx_booked_at      137 non-null    object\n",
      " 4   first_cx_cancelled_at   16 non-null     object\n",
      " 5   cx_appointment_at       127 non-null    object\n",
      " 6   appointment_attendance  129 non-null    object\n",
      " 7   px_booked_at            15 non-null     object\n",
      "dtypes: int64(1), object(7)\n",
      "memory usage: 15.8+ KB\n"
     ]
    }
   ],
   "source": [
    "df.info()"
   ]
  },
  {
   "cell_type": "markdown",
   "id": "b230438d",
   "metadata": {},
   "source": [
    "# Checking for duplicates"
   ]
  },
  {
   "cell_type": "code",
   "execution_count": 4,
   "id": "ff8b5fdf",
   "metadata": {},
   "outputs": [
    {
     "data": {
      "text/plain": [
       "242"
      ]
     },
     "execution_count": 4,
     "metadata": {},
     "output_type": "execute_result"
    }
   ],
   "source": [
    "df.patient_id.nunique()"
   ]
  },
  {
   "cell_type": "code",
   "execution_count": 5,
   "id": "9adef704",
   "metadata": {},
   "outputs": [
    {
     "data": {
      "text/plain": [
       "(250, 8)"
      ]
     },
     "execution_count": 5,
     "metadata": {},
     "output_type": "execute_result"
    }
   ],
   "source": [
    "df.shape"
   ]
  },
  {
   "cell_type": "code",
   "execution_count": 6,
   "id": "d4e7e6b4",
   "metadata": {},
   "outputs": [
    {
     "data": {
      "text/plain": [
       "8"
      ]
     },
     "execution_count": 6,
     "metadata": {},
     "output_type": "execute_result"
    }
   ],
   "source": [
    "df.duplicated().sum()"
   ]
  },
  {
   "cell_type": "code",
   "execution_count": 7,
   "id": "cd7eaaa1",
   "metadata": {},
   "outputs": [
    {
     "data": {
      "text/html": [
       "<div>\n",
       "<style scoped>\n",
       "    .dataframe tbody tr th:only-of-type {\n",
       "        vertical-align: middle;\n",
       "    }\n",
       "\n",
       "    .dataframe tbody tr th {\n",
       "        vertical-align: top;\n",
       "    }\n",
       "\n",
       "    .dataframe thead th {\n",
       "        text-align: right;\n",
       "    }\n",
       "</style>\n",
       "<table border=\"1\" class=\"dataframe\">\n",
       "  <thead>\n",
       "    <tr style=\"text-align: right;\">\n",
       "      <th></th>\n",
       "      <th>patient_id</th>\n",
       "      <th>experiment_group</th>\n",
       "      <th>patient_created_at</th>\n",
       "      <th>first_cx_booked_at</th>\n",
       "      <th>first_cx_cancelled_at</th>\n",
       "      <th>cx_appointment_at</th>\n",
       "      <th>appointment_attendance</th>\n",
       "      <th>px_booked_at</th>\n",
       "    </tr>\n",
       "  </thead>\n",
       "  <tbody>\n",
       "    <tr>\n",
       "      <th>53</th>\n",
       "      <td>786438886806</td>\n",
       "      <td>no-credit-card</td>\n",
       "      <td>2019-12-23</td>\n",
       "      <td>2019-12-24</td>\n",
       "      <td>NaN</td>\n",
       "      <td>2020-01-02</td>\n",
       "      <td>patient-show</td>\n",
       "      <td>NaN</td>\n",
       "    </tr>\n",
       "    <tr>\n",
       "      <th>59</th>\n",
       "      <td>690448637389</td>\n",
       "      <td>no-credit-card</td>\n",
       "      <td>2019-12-16</td>\n",
       "      <td>2019-12-16</td>\n",
       "      <td>NaN</td>\n",
       "      <td>2020-01-18</td>\n",
       "      <td>patient-show</td>\n",
       "      <td>NaN</td>\n",
       "    </tr>\n",
       "    <tr>\n",
       "      <th>90</th>\n",
       "      <td>786438886806</td>\n",
       "      <td>no-credit-card</td>\n",
       "      <td>2019-12-23</td>\n",
       "      <td>2019-12-24</td>\n",
       "      <td>NaN</td>\n",
       "      <td>2020-01-02</td>\n",
       "      <td>patient-show</td>\n",
       "      <td>NaN</td>\n",
       "    </tr>\n",
       "    <tr>\n",
       "      <th>94</th>\n",
       "      <td>370546689849</td>\n",
       "      <td>no-credit-card</td>\n",
       "      <td>2019-12-26</td>\n",
       "      <td>2019-12-26</td>\n",
       "      <td>NaN</td>\n",
       "      <td>2020-02-19</td>\n",
       "      <td>patient-show</td>\n",
       "      <td>2020-02-20</td>\n",
       "    </tr>\n",
       "    <tr>\n",
       "      <th>128</th>\n",
       "      <td>786438886806</td>\n",
       "      <td>no-credit-card</td>\n",
       "      <td>2019-12-23</td>\n",
       "      <td>2019-12-24</td>\n",
       "      <td>NaN</td>\n",
       "      <td>2020-01-02</td>\n",
       "      <td>patient-show</td>\n",
       "      <td>NaN</td>\n",
       "    </tr>\n",
       "    <tr>\n",
       "      <th>155</th>\n",
       "      <td>754288149560</td>\n",
       "      <td>no-credit-card</td>\n",
       "      <td>2019-12-29</td>\n",
       "      <td>2019-12-29</td>\n",
       "      <td>NaN</td>\n",
       "      <td>2020-01-11</td>\n",
       "      <td>patient-show</td>\n",
       "      <td>2020-01-13</td>\n",
       "    </tr>\n",
       "    <tr>\n",
       "      <th>163</th>\n",
       "      <td>370546689849</td>\n",
       "      <td>no-credit-card</td>\n",
       "      <td>2019-12-26</td>\n",
       "      <td>2019-12-26</td>\n",
       "      <td>NaN</td>\n",
       "      <td>2020-02-19</td>\n",
       "      <td>patient-show</td>\n",
       "      <td>2020-02-20</td>\n",
       "    </tr>\n",
       "    <tr>\n",
       "      <th>175</th>\n",
       "      <td>690448637389</td>\n",
       "      <td>no-credit-card</td>\n",
       "      <td>2019-12-16</td>\n",
       "      <td>2019-12-16</td>\n",
       "      <td>NaN</td>\n",
       "      <td>2020-01-18</td>\n",
       "      <td>patient-show</td>\n",
       "      <td>NaN</td>\n",
       "    </tr>\n",
       "    <tr>\n",
       "      <th>211</th>\n",
       "      <td>754288149560</td>\n",
       "      <td>no-credit-card</td>\n",
       "      <td>2019-12-29</td>\n",
       "      <td>2019-12-29</td>\n",
       "      <td>NaN</td>\n",
       "      <td>2020-01-11</td>\n",
       "      <td>patient-show</td>\n",
       "      <td>2020-01-13</td>\n",
       "    </tr>\n",
       "    <tr>\n",
       "      <th>214</th>\n",
       "      <td>690448637389</td>\n",
       "      <td>no-credit-card</td>\n",
       "      <td>2019-12-16</td>\n",
       "      <td>2019-12-16</td>\n",
       "      <td>NaN</td>\n",
       "      <td>2020-01-18</td>\n",
       "      <td>patient-show</td>\n",
       "      <td>NaN</td>\n",
       "    </tr>\n",
       "    <tr>\n",
       "      <th>237</th>\n",
       "      <td>690448637389</td>\n",
       "      <td>no-credit-card</td>\n",
       "      <td>2019-12-16</td>\n",
       "      <td>2019-12-16</td>\n",
       "      <td>NaN</td>\n",
       "      <td>2020-01-18</td>\n",
       "      <td>patient-show</td>\n",
       "      <td>NaN</td>\n",
       "    </tr>\n",
       "    <tr>\n",
       "      <th>247</th>\n",
       "      <td>370546689849</td>\n",
       "      <td>no-credit-card</td>\n",
       "      <td>2019-12-26</td>\n",
       "      <td>2019-12-26</td>\n",
       "      <td>NaN</td>\n",
       "      <td>2020-02-19</td>\n",
       "      <td>patient-show</td>\n",
       "      <td>2020-02-20</td>\n",
       "    </tr>\n",
       "  </tbody>\n",
       "</table>\n",
       "</div>"
      ],
      "text/plain": [
       "       patient_id experiment_group patient_created_at first_cx_booked_at  \\\n",
       "53   786438886806   no-credit-card         2019-12-23         2019-12-24   \n",
       "59   690448637389   no-credit-card         2019-12-16         2019-12-16   \n",
       "90   786438886806   no-credit-card         2019-12-23         2019-12-24   \n",
       "94   370546689849   no-credit-card         2019-12-26         2019-12-26   \n",
       "128  786438886806   no-credit-card         2019-12-23         2019-12-24   \n",
       "155  754288149560   no-credit-card         2019-12-29         2019-12-29   \n",
       "163  370546689849   no-credit-card         2019-12-26         2019-12-26   \n",
       "175  690448637389   no-credit-card         2019-12-16         2019-12-16   \n",
       "211  754288149560   no-credit-card         2019-12-29         2019-12-29   \n",
       "214  690448637389   no-credit-card         2019-12-16         2019-12-16   \n",
       "237  690448637389   no-credit-card         2019-12-16         2019-12-16   \n",
       "247  370546689849   no-credit-card         2019-12-26         2019-12-26   \n",
       "\n",
       "    first_cx_cancelled_at cx_appointment_at appointment_attendance  \\\n",
       "53                    NaN        2020-01-02           patient-show   \n",
       "59                    NaN        2020-01-18           patient-show   \n",
       "90                    NaN        2020-01-02           patient-show   \n",
       "94                    NaN        2020-02-19           patient-show   \n",
       "128                   NaN        2020-01-02           patient-show   \n",
       "155                   NaN        2020-01-11           patient-show   \n",
       "163                   NaN        2020-02-19           patient-show   \n",
       "175                   NaN        2020-01-18           patient-show   \n",
       "211                   NaN        2020-01-11           patient-show   \n",
       "214                   NaN        2020-01-18           patient-show   \n",
       "237                   NaN        2020-01-18           patient-show   \n",
       "247                   NaN        2020-02-19           patient-show   \n",
       "\n",
       "    px_booked_at  \n",
       "53           NaN  \n",
       "59           NaN  \n",
       "90           NaN  \n",
       "94    2020-02-20  \n",
       "128          NaN  \n",
       "155   2020-01-13  \n",
       "163   2020-02-20  \n",
       "175          NaN  \n",
       "211   2020-01-13  \n",
       "214          NaN  \n",
       "237          NaN  \n",
       "247   2020-02-20  "
      ]
     },
     "execution_count": 7,
     "metadata": {},
     "output_type": "execute_result"
    }
   ],
   "source": [
    "df[df.duplicated(['patient_id'], keep=False)]"
   ]
  },
  {
   "cell_type": "code",
   "execution_count": 8,
   "id": "943caf28",
   "metadata": {},
   "outputs": [],
   "source": [
    "df.drop_duplicates(inplace=True)"
   ]
  },
  {
   "cell_type": "code",
   "execution_count": 9,
   "id": "9847cfb1",
   "metadata": {},
   "outputs": [
    {
     "data": {
      "text/plain": [
       "0"
      ]
     },
     "execution_count": 9,
     "metadata": {},
     "output_type": "execute_result"
    }
   ],
   "source": [
    "df.duplicated().sum()"
   ]
  },
  {
   "cell_type": "markdown",
   "id": "738a7cab",
   "metadata": {},
   "source": [
    "**There are no more duplicates**"
   ]
  },
  {
   "cell_type": "markdown",
   "id": "2b6305e8",
   "metadata": {},
   "source": [
    "# Missing values"
   ]
  },
  {
   "cell_type": "code",
   "execution_count": 10,
   "id": "9aa7cc69",
   "metadata": {},
   "outputs": [
    {
     "data": {
      "text/plain": [
       "patient_id                  0\n",
       "experiment_group            0\n",
       "patient_created_at          1\n",
       "first_cx_booked_at        113\n",
       "first_cx_cancelled_at     226\n",
       "cx_appointment_at         123\n",
       "appointment_attendance    121\n",
       "px_booked_at              230\n",
       "dtype: int64"
      ]
     },
     "execution_count": 10,
     "metadata": {},
     "output_type": "execute_result"
    }
   ],
   "source": [
    "df.isnull().sum()"
   ]
  },
  {
   "cell_type": "markdown",
   "id": "a03380bc",
   "metadata": {},
   "source": [
    "**`patient_created_at` column has one missing value. I will zoom into this record to see if the patient had any further points of contact.**"
   ]
  },
  {
   "cell_type": "code",
   "execution_count": 11,
   "id": "1d072f81",
   "metadata": {},
   "outputs": [
    {
     "data": {
      "text/html": [
       "<div>\n",
       "<style scoped>\n",
       "    .dataframe tbody tr th:only-of-type {\n",
       "        vertical-align: middle;\n",
       "    }\n",
       "\n",
       "    .dataframe tbody tr th {\n",
       "        vertical-align: top;\n",
       "    }\n",
       "\n",
       "    .dataframe thead th {\n",
       "        text-align: right;\n",
       "    }\n",
       "</style>\n",
       "<table border=\"1\" class=\"dataframe\">\n",
       "  <thead>\n",
       "    <tr style=\"text-align: right;\">\n",
       "      <th></th>\n",
       "      <th>patient_id</th>\n",
       "      <th>experiment_group</th>\n",
       "      <th>patient_created_at</th>\n",
       "      <th>first_cx_booked_at</th>\n",
       "      <th>first_cx_cancelled_at</th>\n",
       "      <th>cx_appointment_at</th>\n",
       "      <th>appointment_attendance</th>\n",
       "      <th>px_booked_at</th>\n",
       "    </tr>\n",
       "  </thead>\n",
       "  <tbody>\n",
       "    <tr>\n",
       "      <th>23</th>\n",
       "      <td>391914615807</td>\n",
       "      <td>no-credit-card</td>\n",
       "      <td>NaN</td>\n",
       "      <td>2019-12-16</td>\n",
       "      <td>NaN</td>\n",
       "      <td>2020-01-18</td>\n",
       "      <td>patient-show</td>\n",
       "      <td>NaN</td>\n",
       "    </tr>\n",
       "  </tbody>\n",
       "</table>\n",
       "</div>"
      ],
      "text/plain": [
       "      patient_id experiment_group patient_created_at first_cx_booked_at  \\\n",
       "23  391914615807   no-credit-card                NaN         2019-12-16   \n",
       "\n",
       "   first_cx_cancelled_at cx_appointment_at appointment_attendance px_booked_at  \n",
       "23                   NaN        2020-01-18           patient-show          NaN  "
      ]
     },
     "execution_count": 11,
     "metadata": {},
     "output_type": "execute_result"
    }
   ],
   "source": [
    "df[df.patient_created_at.isna()]"
   ]
  },
  {
   "cell_type": "markdown",
   "id": "91750b73",
   "metadata": {},
   "source": [
    "**The patient have attended an appointment so the `patient_created_at` variable should not be empty. There may be a valid reason why this record is missing but for the purpose of this analysis and to ease visualisation I will assume that if the patient had any interaction with the business they should have `patient_created_at` field populated. I will fill it with the `first_cx_booked_at` date as this is the first point of contact we know of.**"
   ]
  },
  {
   "cell_type": "code",
   "execution_count": 12,
   "id": "e53e7ff4",
   "metadata": {},
   "outputs": [],
   "source": [
    "df[\"patient_created_at\"] = df[\"patient_created_at\"].fillna(df[\"first_cx_booked_at\"])"
   ]
  },
  {
   "cell_type": "code",
   "execution_count": 13,
   "id": "227f1451",
   "metadata": {},
   "outputs": [
    {
     "data": {
      "text/html": [
       "<div>\n",
       "<style scoped>\n",
       "    .dataframe tbody tr th:only-of-type {\n",
       "        vertical-align: middle;\n",
       "    }\n",
       "\n",
       "    .dataframe tbody tr th {\n",
       "        vertical-align: top;\n",
       "    }\n",
       "\n",
       "    .dataframe thead th {\n",
       "        text-align: right;\n",
       "    }\n",
       "</style>\n",
       "<table border=\"1\" class=\"dataframe\">\n",
       "  <thead>\n",
       "    <tr style=\"text-align: right;\">\n",
       "      <th></th>\n",
       "      <th>patient_id</th>\n",
       "      <th>experiment_group</th>\n",
       "      <th>patient_created_at</th>\n",
       "      <th>first_cx_booked_at</th>\n",
       "      <th>first_cx_cancelled_at</th>\n",
       "      <th>cx_appointment_at</th>\n",
       "      <th>appointment_attendance</th>\n",
       "      <th>px_booked_at</th>\n",
       "    </tr>\n",
       "  </thead>\n",
       "  <tbody>\n",
       "    <tr>\n",
       "      <th>23</th>\n",
       "      <td>391914615807</td>\n",
       "      <td>no-credit-card</td>\n",
       "      <td>2019-12-16</td>\n",
       "      <td>2019-12-16</td>\n",
       "      <td>NaN</td>\n",
       "      <td>2020-01-18</td>\n",
       "      <td>patient-show</td>\n",
       "      <td>NaN</td>\n",
       "    </tr>\n",
       "  </tbody>\n",
       "</table>\n",
       "</div>"
      ],
      "text/plain": [
       "      patient_id experiment_group patient_created_at first_cx_booked_at  \\\n",
       "23  391914615807   no-credit-card         2019-12-16         2019-12-16   \n",
       "\n",
       "   first_cx_cancelled_at cx_appointment_at appointment_attendance px_booked_at  \n",
       "23                   NaN        2020-01-18           patient-show          NaN  "
      ]
     },
     "execution_count": 13,
     "metadata": {},
     "output_type": "execute_result"
    }
   ],
   "source": [
    "df[df.patient_id == 391914615807]  #printing the row again to check the result"
   ]
  },
  {
   "cell_type": "code",
   "execution_count": 14,
   "id": "68f5ef6b",
   "metadata": {},
   "outputs": [
    {
     "data": {
      "text/plain": [
       "patient_id                  0\n",
       "experiment_group            0\n",
       "patient_created_at          0\n",
       "first_cx_booked_at        113\n",
       "first_cx_cancelled_at     226\n",
       "cx_appointment_at         123\n",
       "appointment_attendance    121\n",
       "px_booked_at              230\n",
       "dtype: int64"
      ]
     },
     "execution_count": 14,
     "metadata": {},
     "output_type": "execute_result"
    }
   ],
   "source": [
    "df.isnull().sum()"
   ]
  },
  {
   "cell_type": "markdown",
   "id": "7540d762",
   "metadata": {},
   "source": [
    "**Let's visualise the missing values.**"
   ]
  },
  {
   "cell_type": "code",
   "execution_count": 15,
   "id": "73443ec1",
   "metadata": {},
   "outputs": [
    {
     "data": {
      "image/png": "[encoded data removed]",
      "text/plain": [
       "<Figure size 720x360 with 2 Axes>"
      ]
     },
     "metadata": {},
     "output_type": "display_data"
    }
   ],
   "source": [
    "sns.set(rc={'figure.figsize':(10, 5)})\n",
    "sns.heatmap(df.isna(),cmap='viridis', yticklabels=False)\n",
    "plt.show()"
   ]
  },
  {
   "cell_type": "markdown",
   "id": "adb47977",
   "metadata": {},
   "source": [
    "**The `patient_created_at` column for customer id `391914615807` has been filled and there are no missing values in that column.**\n",
    "\n",
    "**I will leave the remaining missing values for now.**"
   ]
  },
  {
   "cell_type": "markdown",
   "id": "33d63367",
   "metadata": {},
   "source": [
    "# Converting the columns containing dates to datetime\n",
    "\n",
    "**When I tried to convert the `patient_created_at` into datetime I received an error message stating that some dates were in the YYYY-DD-MM format instead of YYYY-MM-DD so I started with locating those and coverting them to the correct format.**"
   ]
  },
  {
   "cell_type": "code",
   "execution_count": 16,
   "id": "63c005e2",
   "metadata": {},
   "outputs": [
    {
     "data": {
      "text/html": [
       "<div>\n",
       "<style scoped>\n",
       "    .dataframe tbody tr th:only-of-type {\n",
       "        vertical-align: middle;\n",
       "    }\n",
       "\n",
       "    .dataframe tbody tr th {\n",
       "        vertical-align: top;\n",
       "    }\n",
       "\n",
       "    .dataframe thead th {\n",
       "        text-align: right;\n",
       "    }\n",
       "</style>\n",
       "<table border=\"1\" class=\"dataframe\">\n",
       "  <thead>\n",
       "    <tr style=\"text-align: right;\">\n",
       "      <th></th>\n",
       "      <th>patient_id</th>\n",
       "      <th>experiment_group</th>\n",
       "      <th>patient_created_at</th>\n",
       "      <th>first_cx_booked_at</th>\n",
       "      <th>first_cx_cancelled_at</th>\n",
       "      <th>cx_appointment_at</th>\n",
       "      <th>appointment_attendance</th>\n",
       "      <th>px_booked_at</th>\n",
       "    </tr>\n",
       "  </thead>\n",
       "  <tbody>\n",
       "    <tr>\n",
       "      <th>50</th>\n",
       "      <td>436662928129</td>\n",
       "      <td>with-credit-card</td>\n",
       "      <td>2019-19-12</td>\n",
       "      <td>2019-19-12</td>\n",
       "      <td>NaN</td>\n",
       "      <td>2020-02-01</td>\n",
       "      <td>patient-show</td>\n",
       "      <td>NaN</td>\n",
       "    </tr>\n",
       "    <tr>\n",
       "      <th>77</th>\n",
       "      <td>33942714700</td>\n",
       "      <td>with-credit-card</td>\n",
       "      <td>2019-16-12</td>\n",
       "      <td>2019-16-12</td>\n",
       "      <td>NaN</td>\n",
       "      <td>2020-08-01</td>\n",
       "      <td>patient-show</td>\n",
       "      <td>NaN</td>\n",
       "    </tr>\n",
       "    <tr>\n",
       "      <th>135</th>\n",
       "      <td>298097861609</td>\n",
       "      <td>with-credit-card</td>\n",
       "      <td>2019-28-12</td>\n",
       "      <td>2019-28-12</td>\n",
       "      <td>NaN</td>\n",
       "      <td>2020-04-01</td>\n",
       "      <td>patient-show</td>\n",
       "      <td>NaN</td>\n",
       "    </tr>\n",
       "    <tr>\n",
       "      <th>136</th>\n",
       "      <td>297535192606</td>\n",
       "      <td>with-credit-card</td>\n",
       "      <td>2019-23-12</td>\n",
       "      <td>2019-23-12</td>\n",
       "      <td>NaN</td>\n",
       "      <td>2020-12-01</td>\n",
       "      <td>patient-no-show</td>\n",
       "      <td>NaN</td>\n",
       "    </tr>\n",
       "    <tr>\n",
       "      <th>226</th>\n",
       "      <td>57118389641</td>\n",
       "      <td>no-credit-card</td>\n",
       "      <td>2019-21-12</td>\n",
       "      <td>2019-21-12</td>\n",
       "      <td>NaN</td>\n",
       "      <td>2020-11-01</td>\n",
       "      <td>patient-no-show</td>\n",
       "      <td>NaN</td>\n",
       "    </tr>\n",
       "  </tbody>\n",
       "</table>\n",
       "</div>"
      ],
      "text/plain": [
       "       patient_id  experiment_group patient_created_at first_cx_booked_at  \\\n",
       "50   436662928129  with-credit-card         2019-19-12         2019-19-12   \n",
       "77    33942714700  with-credit-card         2019-16-12         2019-16-12   \n",
       "135  298097861609  with-credit-card         2019-28-12         2019-28-12   \n",
       "136  297535192606  with-credit-card         2019-23-12         2019-23-12   \n",
       "226   57118389641    no-credit-card         2019-21-12         2019-21-12   \n",
       "\n",
       "    first_cx_cancelled_at cx_appointment_at appointment_attendance  \\\n",
       "50                    NaN        2020-02-01           patient-show   \n",
       "77                    NaN        2020-08-01           patient-show   \n",
       "135                   NaN        2020-04-01           patient-show   \n",
       "136                   NaN        2020-12-01        patient-no-show   \n",
       "226                   NaN        2020-11-01        patient-no-show   \n",
       "\n",
       "    px_booked_at  \n",
       "50           NaN  \n",
       "77           NaN  \n",
       "135          NaN  \n",
       "136          NaN  \n",
       "226          NaN  "
      ]
     },
     "execution_count": 16,
     "metadata": {},
     "output_type": "execute_result"
    }
   ],
   "source": [
    "df[~df[\"patient_created_at\"].str.contains(\"2019-12\")]"
   ]
  },
  {
   "cell_type": "code",
   "execution_count": 17,
   "id": "41a5b299",
   "metadata": {},
   "outputs": [
    {
     "data": {
      "text/plain": [
       "['2019-19-12', '2019-16-12', '2019-28-12', '2019-23-12', '2019-21-12']"
      ]
     },
     "execution_count": 17,
     "metadata": {},
     "output_type": "execute_result"
    }
   ],
   "source": [
    "import fnmatch\n",
    "fnmatch.filter(df.patient_created_at, '2019-*-12')  #another way of checking which dates have 12 in the last position"
   ]
  },
  {
   "cell_type": "markdown",
   "id": "9cc3ff12",
   "metadata": {},
   "source": [
    "**The above are the only ones so I will create a dictionary to then replace the incorect format into the right format.**"
   ]
  },
  {
   "cell_type": "code",
   "execution_count": 18,
   "id": "eaa6f6b2",
   "metadata": {},
   "outputs": [
    {
     "data": {
      "text/plain": [
       "{'2019-19-12': '2019-12-19',\n",
       " '2019-16-12': '2019-12-16',\n",
       " '2019-28-12': '2019-12-28',\n",
       " '2019-23-12': '2019-12-23',\n",
       " '2019-21-12': '2019-12-21'}"
      ]
     },
     "execution_count": 18,
     "metadata": {},
     "output_type": "execute_result"
    }
   ],
   "source": [
    "date_map = {'2019-19-12' : '2019-12-19',\n",
    "            '2019-16-12' : '2019-12-16',\n",
    "            '2019-28-12' : '2019-12-28',\n",
    "            '2019-23-12' : '2019-12-23',\n",
    "            '2019-21-12' : '2019-12-21'}\n",
    "date_map"
   ]
  },
  {
   "cell_type": "code",
   "execution_count": 19,
   "id": "edc844d5",
   "metadata": {},
   "outputs": [],
   "source": [
    "df[\"patient_created_at\"] = df[\"patient_created_at\"].replace(date_map, regex=True)  #replacing values using date_map dictionary"
   ]
  },
  {
   "cell_type": "code",
   "execution_count": 20,
   "id": "63b55785",
   "metadata": {},
   "outputs": [
    {
     "data": {
      "text/plain": [
       "[]"
      ]
     },
     "execution_count": 20,
     "metadata": {},
     "output_type": "execute_result"
    }
   ],
   "source": [
    "fnmatch.filter(df.patient_created_at, '2019-*-12')  #repeating the search done previously to see if the wrong formats are gone"
   ]
  },
  {
   "cell_type": "markdown",
   "id": "ab690f6b",
   "metadata": {},
   "source": [
    "**There are no more dates with incorrect format so I can convert the column type to \"datetime\".**"
   ]
  },
  {
   "cell_type": "code",
   "execution_count": 21,
   "id": "d8e1a7bc",
   "metadata": {},
   "outputs": [],
   "source": [
    "df[\"patient_created_at\"] = pd.to_datetime(df[\"patient_created_at\"])  #converting object values o datetime"
   ]
  },
  {
   "cell_type": "markdown",
   "id": "709a1d52",
   "metadata": {},
   "source": [
    "**I will try to do the same for the other \"date\" columns.**\n",
    "\n",
    "**Converting `first_cx_booked_at` column:**"
   ]
  },
  {
   "cell_type": "code",
   "execution_count": 22,
   "id": "62b0aaea",
   "metadata": {},
   "outputs": [],
   "source": [
    "df[\"first_cx_booked_at\"] = df[\"first_cx_booked_at\"].replace(date_map, regex=True)  #replacing values using date_map dictionary\n",
    "df[\"first_cx_booked_at\"] = pd.to_datetime(df[\"first_cx_booked_at\"])  #converting object values o datetime"
   ]
  },
  {
   "cell_type": "markdown",
   "id": "e25e234a",
   "metadata": {},
   "source": [
    "**Converting `first_cx_cancelled_at` column:**"
   ]
  },
  {
   "cell_type": "code",
   "execution_count": 23,
   "id": "aee7ad74",
   "metadata": {},
   "outputs": [
    {
     "data": {
      "text/plain": [
       "array([nan, '2019-12-21', '2019-12-24', '2019-12-25', '2019-12-26',\n",
       "       '2019-12-18', '2019-12-28', '2019-12-27', '2019-12-22'],\n",
       "      dtype=object)"
      ]
     },
     "execution_count": 23,
     "metadata": {},
     "output_type": "execute_result"
    }
   ],
   "source": [
    "df[\"first_cx_cancelled_at\"].unique()  #checking all unique values to see if there are some that may be in incorrect format"
   ]
  },
  {
   "cell_type": "code",
   "execution_count": 24,
   "id": "478ef509",
   "metadata": {},
   "outputs": [],
   "source": [
    "df[\"first_cx_cancelled_at\"] = pd.to_datetime(df[\"first_cx_cancelled_at\"])  #converting object values o datetime"
   ]
  },
  {
   "cell_type": "markdown",
   "id": "3c316e27",
   "metadata": {},
   "source": [
    "**Converting `cx_appointment_at` column:**"
   ]
  },
  {
   "cell_type": "code",
   "execution_count": 25,
   "id": "4d23cf9e",
   "metadata": {},
   "outputs": [
    {
     "data": {
      "text/plain": [
       "array(['2020-01-11', nan, '2020-01-05', '2020-02-13', '2020-02-12',\n",
       "       '2020-01-15', '2020-01-18', '2019-12-23', '2019-12-30',\n",
       "       '2020-02-02', '2020-01-27', '2020-03-14', '2020-01-20',\n",
       "       '2020-01-01', '2020-02-16', '2020-02-01', '2020-01-02',\n",
       "       '2020-01-09', '2020-02-09', '2019-12-29', '2020-01-30',\n",
       "       '2020-01-19', '2020-01-29', '2020-08-01', '2020-01-25',\n",
       "       '2020-01-04', '2020-01-07', '2020-02-19', '2020-01-08',\n",
       "       '2019-12-16', '2020-01-16', '2020-04-01', '2020-12-01',\n",
       "       '2020-01-28', '2020-01-13', '2020-01-21', '2019-12-19',\n",
       "       '2019-12-31', '2019-12-28', '2020-03-06', '2019-12-25',\n",
       "       '2020-01-14', '2020-01-26', '2020-03-17', '2020-01-06',\n",
       "       '2020-03-09', '2019-12-21', '2020-11-01', '2020-02-18',\n",
       "       '2020-03-02', '2019-12-18'], dtype=object)"
      ]
     },
     "execution_count": 25,
     "metadata": {},
     "output_type": "execute_result"
    }
   ],
   "source": [
    "df['cx_appointment_at'].unique()"
   ]
  },
  {
   "cell_type": "markdown",
   "id": "65bd9b40",
   "metadata": {},
   "source": [
    "**The `cx_appointment_at` column is a little bit more tricky to deal with because all dates seem probable (there is no value with the middle value more than 12) but for patients who had dates in incorrect format in other column (data showing earlier in this chapter) it does not seem probable that their appointments booked in Dec 2019 would actually take place 8, 11 or 12 months later. So I decided that the patients who had incorrect format in all the other columns would also have incorrect format in this column.**\n",
    "\n",
    "**First, I will print all the values with the dates that I suspect to be incorrect:**"
   ]
  },
  {
   "cell_type": "code",
   "execution_count": 26,
   "id": "7c9d6468",
   "metadata": {},
   "outputs": [
    {
     "data": {
      "text/html": [
       "<div>\n",
       "<style scoped>\n",
       "    .dataframe tbody tr th:only-of-type {\n",
       "        vertical-align: middle;\n",
       "    }\n",
       "\n",
       "    .dataframe tbody tr th {\n",
       "        vertical-align: top;\n",
       "    }\n",
       "\n",
       "    .dataframe thead th {\n",
       "        text-align: right;\n",
       "    }\n",
       "</style>\n",
       "<table border=\"1\" class=\"dataframe\">\n",
       "  <thead>\n",
       "    <tr style=\"text-align: right;\">\n",
       "      <th></th>\n",
       "      <th>patient_id</th>\n",
       "      <th>experiment_group</th>\n",
       "      <th>patient_created_at</th>\n",
       "      <th>first_cx_booked_at</th>\n",
       "      <th>first_cx_cancelled_at</th>\n",
       "      <th>cx_appointment_at</th>\n",
       "      <th>appointment_attendance</th>\n",
       "      <th>px_booked_at</th>\n",
       "    </tr>\n",
       "  </thead>\n",
       "  <tbody>\n",
       "    <tr>\n",
       "      <th>50</th>\n",
       "      <td>436662928129</td>\n",
       "      <td>with-credit-card</td>\n",
       "      <td>2019-12-19</td>\n",
       "      <td>2019-12-19</td>\n",
       "      <td>NaT</td>\n",
       "      <td>2020-02-01</td>\n",
       "      <td>patient-show</td>\n",
       "      <td>NaN</td>\n",
       "    </tr>\n",
       "    <tr>\n",
       "      <th>77</th>\n",
       "      <td>33942714700</td>\n",
       "      <td>with-credit-card</td>\n",
       "      <td>2019-12-16</td>\n",
       "      <td>2019-12-16</td>\n",
       "      <td>NaT</td>\n",
       "      <td>2020-08-01</td>\n",
       "      <td>patient-show</td>\n",
       "      <td>NaN</td>\n",
       "    </tr>\n",
       "    <tr>\n",
       "      <th>135</th>\n",
       "      <td>298097861609</td>\n",
       "      <td>with-credit-card</td>\n",
       "      <td>2019-12-28</td>\n",
       "      <td>2019-12-28</td>\n",
       "      <td>NaT</td>\n",
       "      <td>2020-04-01</td>\n",
       "      <td>patient-show</td>\n",
       "      <td>NaN</td>\n",
       "    </tr>\n",
       "    <tr>\n",
       "      <th>136</th>\n",
       "      <td>297535192606</td>\n",
       "      <td>with-credit-card</td>\n",
       "      <td>2019-12-23</td>\n",
       "      <td>2019-12-23</td>\n",
       "      <td>NaT</td>\n",
       "      <td>2020-12-01</td>\n",
       "      <td>patient-no-show</td>\n",
       "      <td>NaN</td>\n",
       "    </tr>\n",
       "    <tr>\n",
       "      <th>226</th>\n",
       "      <td>57118389641</td>\n",
       "      <td>no-credit-card</td>\n",
       "      <td>2019-12-21</td>\n",
       "      <td>2019-12-21</td>\n",
       "      <td>NaT</td>\n",
       "      <td>2020-11-01</td>\n",
       "      <td>patient-no-show</td>\n",
       "      <td>NaN</td>\n",
       "    </tr>\n",
       "  </tbody>\n",
       "</table>\n",
       "</div>"
      ],
      "text/plain": [
       "       patient_id  experiment_group patient_created_at first_cx_booked_at  \\\n",
       "50   436662928129  with-credit-card         2019-12-19         2019-12-19   \n",
       "77    33942714700  with-credit-card         2019-12-16         2019-12-16   \n",
       "135  298097861609  with-credit-card         2019-12-28         2019-12-28   \n",
       "136  297535192606  with-credit-card         2019-12-23         2019-12-23   \n",
       "226   57118389641    no-credit-card         2019-12-21         2019-12-21   \n",
       "\n",
       "    first_cx_cancelled_at cx_appointment_at appointment_attendance  \\\n",
       "50                    NaT        2020-02-01           patient-show   \n",
       "77                    NaT        2020-08-01           patient-show   \n",
       "135                   NaT        2020-04-01           patient-show   \n",
       "136                   NaT        2020-12-01        patient-no-show   \n",
       "226                   NaT        2020-11-01        patient-no-show   \n",
       "\n",
       "    px_booked_at  \n",
       "50           NaN  \n",
       "77           NaN  \n",
       "135          NaN  \n",
       "136          NaN  \n",
       "226          NaN  "
      ]
     },
     "execution_count": 26,
     "metadata": {},
     "output_type": "execute_result"
    }
   ],
   "source": [
    "df.loc[df['cx_appointment_at'].isin(['2020-02-01', '2020-08-01', '2020-04-01', '2020-12-01', '2020-11-01'])]"
   ]
  },
  {
   "cell_type": "markdown",
   "id": "559740e1",
   "metadata": {},
   "source": [
    "**Yes, those are the same rows so each of those dates apears only oce in the dataset. I can go ahead and change them to the correct format.**"
   ]
  },
  {
   "cell_type": "code",
   "execution_count": 27,
   "id": "a21ed619",
   "metadata": {},
   "outputs": [],
   "source": [
    "date_map_ = {'2020-02-01' : '2020-01-02',\n",
    "             '2020-08-01' : '2020-01-08',\n",
    "             '2020-04-01' : '2020-01-04',\n",
    "             '2020-12-01' : '2020-01-12',\n",
    "             '2020-11-01' : '2020-01-11'}"
   ]
  },
  {
   "cell_type": "code",
   "execution_count": 28,
   "id": "0959b96a",
   "metadata": {},
   "outputs": [],
   "source": [
    "df[\"cx_appointment_at\"] = df[\"cx_appointment_at\"].replace(date_map_, regex=True)  #replacing values using date_map dictionary\n",
    "df[\"cx_appointment_at\"] = pd.to_datetime(df[\"cx_appointment_at\"])  #converting object values o datetime"
   ]
  },
  {
   "cell_type": "markdown",
   "id": "22878b8b",
   "metadata": {},
   "source": [
    "**Converting `px_booked_att` column:**"
   ]
  },
  {
   "cell_type": "code",
   "execution_count": 29,
   "id": "be87ddb9",
   "metadata": {},
   "outputs": [
    {
     "data": {
      "text/plain": [
       "array(['2020-01-13', nan, '2020-02-18', '2020-01-06', '2019-12-24',\n",
       "       '2020-02-20', '2020-01-14', '2019-12-30', '2020-01-07',\n",
       "       '2019-12-22', '2020-01-21'], dtype=object)"
      ]
     },
     "execution_count": 29,
     "metadata": {},
     "output_type": "execute_result"
    }
   ],
   "source": [
    "df['px_booked_at'].unique()"
   ]
  },
  {
   "cell_type": "markdown",
   "id": "d3296cee",
   "metadata": {},
   "source": [
    "**There are no worng formats there. I will convert them as they are.**"
   ]
  },
  {
   "cell_type": "code",
   "execution_count": 30,
   "id": "eae5686c",
   "metadata": {},
   "outputs": [],
   "source": [
    "df[\"px_booked_at\"] = pd.to_datetime(df[\"px_booked_at\"])  #converting object values o datetime"
   ]
  },
  {
   "cell_type": "code",
   "execution_count": 31,
   "id": "b2ef93e1",
   "metadata": {},
   "outputs": [
    {
     "name": "stdout",
     "output_type": "stream",
     "text": [
      "<class 'pandas.core.frame.DataFrame'>\n",
      "Int64Index: 242 entries, 0 to 249\n",
      "Data columns (total 8 columns):\n",
      " #   Column                  Non-Null Count  Dtype         \n",
      "---  ------                  --------------  -----         \n",
      " 0   patient_id              242 non-null    int64         \n",
      " 1   experiment_group        242 non-null    object        \n",
      " 2   patient_created_at      242 non-null    datetime64[ns]\n",
      " 3   first_cx_booked_at      129 non-null    datetime64[ns]\n",
      " 4   first_cx_cancelled_at   16 non-null     datetime64[ns]\n",
      " 5   cx_appointment_at       119 non-null    datetime64[ns]\n",
      " 6   appointment_attendance  121 non-null    object        \n",
      " 7   px_booked_at            12 non-null     datetime64[ns]\n",
      "dtypes: datetime64[ns](5), int64(1), object(2)\n",
      "memory usage: 17.0+ KB\n"
     ]
    }
   ],
   "source": [
    "df.info()  #to check the type"
   ]
  },
  {
   "cell_type": "markdown",
   "id": "04751bd9",
   "metadata": {},
   "source": [
    "# Adding conversion column\n",
    "\n",
    "**Creating a column called 'converted' where all booked procedures will be 1 and all the null values will be 0**"
   ]
  },
  {
   "cell_type": "code",
   "execution_count": 32,
   "id": "57094203",
   "metadata": {},
   "outputs": [
    {
     "data": {
      "text/plain": [
       "array(['2020-01-13T00:00:00.000000000',                           'NaT',\n",
       "       '2020-02-18T00:00:00.000000000', '2020-01-06T00:00:00.000000000',\n",
       "       '2019-12-24T00:00:00.000000000', '2020-02-20T00:00:00.000000000',\n",
       "       '2020-01-14T00:00:00.000000000', '2019-12-30T00:00:00.000000000',\n",
       "       '2020-01-07T00:00:00.000000000', '2019-12-22T00:00:00.000000000',\n",
       "       '2020-01-21T00:00:00.000000000'], dtype='datetime64[ns]')"
      ]
     },
     "execution_count": 32,
     "metadata": {},
     "output_type": "execute_result"
    }
   ],
   "source": [
    "df['px_booked_at'].unique()"
   ]
  },
  {
   "cell_type": "code",
   "execution_count": 33,
   "id": "6ab8b298",
   "metadata": {},
   "outputs": [],
   "source": [
    "df['converted'] = df['px_booked_at'].apply(lambda x: 1 if not pd.isnull(x) else 0)"
   ]
  },
  {
   "cell_type": "code",
   "execution_count": 34,
   "id": "48b86019",
   "metadata": {},
   "outputs": [
    {
     "data": {
      "text/html": [
       "<div>\n",
       "<style scoped>\n",
       "    .dataframe tbody tr th:only-of-type {\n",
       "        vertical-align: middle;\n",
       "    }\n",
       "\n",
       "    .dataframe tbody tr th {\n",
       "        vertical-align: top;\n",
       "    }\n",
       "\n",
       "    .dataframe thead th {\n",
       "        text-align: right;\n",
       "    }\n",
       "</style>\n",
       "<table border=\"1\" class=\"dataframe\">\n",
       "  <thead>\n",
       "    <tr style=\"text-align: right;\">\n",
       "      <th></th>\n",
       "      <th>patient_id</th>\n",
       "      <th>experiment_group</th>\n",
       "      <th>patient_created_at</th>\n",
       "      <th>first_cx_booked_at</th>\n",
       "      <th>first_cx_cancelled_at</th>\n",
       "      <th>cx_appointment_at</th>\n",
       "      <th>appointment_attendance</th>\n",
       "      <th>px_booked_at</th>\n",
       "      <th>converted</th>\n",
       "    </tr>\n",
       "  </thead>\n",
       "  <tbody>\n",
       "    <tr>\n",
       "      <th>0</th>\n",
       "      <td>69522307739</td>\n",
       "      <td>with-credit-card</td>\n",
       "      <td>2019-12-20</td>\n",
       "      <td>2019-12-21</td>\n",
       "      <td>NaT</td>\n",
       "      <td>2020-01-11</td>\n",
       "      <td>patient-show</td>\n",
       "      <td>2020-01-13</td>\n",
       "      <td>1</td>\n",
       "    </tr>\n",
       "    <tr>\n",
       "      <th>1</th>\n",
       "      <td>931819353745</td>\n",
       "      <td>with-credit-card</td>\n",
       "      <td>2019-12-23</td>\n",
       "      <td>NaT</td>\n",
       "      <td>NaT</td>\n",
       "      <td>NaT</td>\n",
       "      <td>NaN</td>\n",
       "      <td>NaT</td>\n",
       "      <td>0</td>\n",
       "    </tr>\n",
       "    <tr>\n",
       "      <th>2</th>\n",
       "      <td>979634255142</td>\n",
       "      <td>with-credit-card</td>\n",
       "      <td>2019-12-19</td>\n",
       "      <td>2019-12-19</td>\n",
       "      <td>NaT</td>\n",
       "      <td>2020-01-05</td>\n",
       "      <td>patient-no-show</td>\n",
       "      <td>NaT</td>\n",
       "      <td>0</td>\n",
       "    </tr>\n",
       "    <tr>\n",
       "      <th>3</th>\n",
       "      <td>534016431925</td>\n",
       "      <td>with-credit-card</td>\n",
       "      <td>2019-12-22</td>\n",
       "      <td>NaT</td>\n",
       "      <td>NaT</td>\n",
       "      <td>NaT</td>\n",
       "      <td>NaN</td>\n",
       "      <td>NaT</td>\n",
       "      <td>0</td>\n",
       "    </tr>\n",
       "    <tr>\n",
       "      <th>4</th>\n",
       "      <td>934071204695</td>\n",
       "      <td>no-credit-card</td>\n",
       "      <td>2019-12-23</td>\n",
       "      <td>NaT</td>\n",
       "      <td>NaT</td>\n",
       "      <td>NaT</td>\n",
       "      <td>NaN</td>\n",
       "      <td>NaT</td>\n",
       "      <td>0</td>\n",
       "    </tr>\n",
       "  </tbody>\n",
       "</table>\n",
       "</div>"
      ],
      "text/plain": [
       "     patient_id  experiment_group patient_created_at first_cx_booked_at  \\\n",
       "0   69522307739  with-credit-card         2019-12-20         2019-12-21   \n",
       "1  931819353745  with-credit-card         2019-12-23                NaT   \n",
       "2  979634255142  with-credit-card         2019-12-19         2019-12-19   \n",
       "3  534016431925  with-credit-card         2019-12-22                NaT   \n",
       "4  934071204695    no-credit-card         2019-12-23                NaT   \n",
       "\n",
       "  first_cx_cancelled_at cx_appointment_at appointment_attendance px_booked_at  \\\n",
       "0                   NaT        2020-01-11           patient-show   2020-01-13   \n",
       "1                   NaT               NaT                    NaN          NaT   \n",
       "2                   NaT        2020-01-05        patient-no-show          NaT   \n",
       "3                   NaT               NaT                    NaN          NaT   \n",
       "4                   NaT               NaT                    NaN          NaT   \n",
       "\n",
       "   converted  \n",
       "0          1  \n",
       "1          0  \n",
       "2          0  \n",
       "3          0  \n",
       "4          0  "
      ]
     },
     "execution_count": 34,
     "metadata": {},
     "output_type": "execute_result"
    }
   ],
   "source": [
    "df.head()"
   ]
  },
  {
   "cell_type": "code",
   "execution_count": 35,
   "id": "3226999a",
   "metadata": {},
   "outputs": [
    {
     "data": {
      "text/html": [
       "<div>\n",
       "<style scoped>\n",
       "    .dataframe tbody tr th:only-of-type {\n",
       "        vertical-align: middle;\n",
       "    }\n",
       "\n",
       "    .dataframe tbody tr th {\n",
       "        vertical-align: top;\n",
       "    }\n",
       "\n",
       "    .dataframe thead th {\n",
       "        text-align: right;\n",
       "    }\n",
       "</style>\n",
       "<table border=\"1\" class=\"dataframe\">\n",
       "  <thead>\n",
       "    <tr style=\"text-align: right;\">\n",
       "      <th></th>\n",
       "      <th>patient_id</th>\n",
       "      <th>experiment_group</th>\n",
       "      <th>patient_created_at</th>\n",
       "      <th>first_cx_booked_at</th>\n",
       "      <th>first_cx_cancelled_at</th>\n",
       "      <th>cx_appointment_at</th>\n",
       "      <th>appointment_attendance</th>\n",
       "      <th>px_booked_at</th>\n",
       "      <th>converted</th>\n",
       "    </tr>\n",
       "  </thead>\n",
       "  <tbody>\n",
       "    <tr>\n",
       "      <th>0</th>\n",
       "      <td>69522307739</td>\n",
       "      <td>with-credit-card</td>\n",
       "      <td>2019-12-20</td>\n",
       "      <td>2019-12-21</td>\n",
       "      <td>NaT</td>\n",
       "      <td>2020-01-11</td>\n",
       "      <td>patient-show</td>\n",
       "      <td>2020-01-13</td>\n",
       "      <td>1</td>\n",
       "    </tr>\n",
       "    <tr>\n",
       "      <th>31</th>\n",
       "      <td>534789265442</td>\n",
       "      <td>no-credit-card</td>\n",
       "      <td>2019-12-22</td>\n",
       "      <td>2019-12-22</td>\n",
       "      <td>NaT</td>\n",
       "      <td>2020-01-27</td>\n",
       "      <td>patient-show</td>\n",
       "      <td>2020-02-18</td>\n",
       "      <td>1</td>\n",
       "    </tr>\n",
       "    <tr>\n",
       "      <th>39</th>\n",
       "      <td>975158146804</td>\n",
       "      <td>no-credit-card</td>\n",
       "      <td>2019-12-18</td>\n",
       "      <td>2019-12-18</td>\n",
       "      <td>NaT</td>\n",
       "      <td>2019-12-23</td>\n",
       "      <td>patient-show</td>\n",
       "      <td>2020-01-06</td>\n",
       "      <td>1</td>\n",
       "    </tr>\n",
       "    <tr>\n",
       "      <th>58</th>\n",
       "      <td>667418593631</td>\n",
       "      <td>no-credit-card</td>\n",
       "      <td>2019-12-21</td>\n",
       "      <td>2019-12-15</td>\n",
       "      <td>NaT</td>\n",
       "      <td>2019-12-23</td>\n",
       "      <td>patient-show</td>\n",
       "      <td>2019-12-24</td>\n",
       "      <td>1</td>\n",
       "    </tr>\n",
       "    <tr>\n",
       "      <th>94</th>\n",
       "      <td>370546689849</td>\n",
       "      <td>no-credit-card</td>\n",
       "      <td>2019-12-26</td>\n",
       "      <td>2019-12-26</td>\n",
       "      <td>NaT</td>\n",
       "      <td>2020-02-19</td>\n",
       "      <td>patient-show</td>\n",
       "      <td>2020-02-20</td>\n",
       "      <td>1</td>\n",
       "    </tr>\n",
       "    <tr>\n",
       "      <th>115</th>\n",
       "      <td>188754803197</td>\n",
       "      <td>with-credit-card</td>\n",
       "      <td>2019-12-22</td>\n",
       "      <td>2019-12-22</td>\n",
       "      <td>NaT</td>\n",
       "      <td>2019-12-23</td>\n",
       "      <td>patient-show</td>\n",
       "      <td>2019-12-24</td>\n",
       "      <td>1</td>\n",
       "    </tr>\n",
       "    <tr>\n",
       "      <th>117</th>\n",
       "      <td>460197213462</td>\n",
       "      <td>with-credit-card</td>\n",
       "      <td>2019-12-26</td>\n",
       "      <td>NaT</td>\n",
       "      <td>NaT</td>\n",
       "      <td>NaT</td>\n",
       "      <td>patient-show</td>\n",
       "      <td>2020-01-14</td>\n",
       "      <td>1</td>\n",
       "    </tr>\n",
       "    <tr>\n",
       "      <th>155</th>\n",
       "      <td>754288149560</td>\n",
       "      <td>no-credit-card</td>\n",
       "      <td>2019-12-29</td>\n",
       "      <td>2019-12-29</td>\n",
       "      <td>NaT</td>\n",
       "      <td>2020-01-11</td>\n",
       "      <td>patient-show</td>\n",
       "      <td>2020-01-13</td>\n",
       "      <td>1</td>\n",
       "    </tr>\n",
       "    <tr>\n",
       "      <th>184</th>\n",
       "      <td>313552299032</td>\n",
       "      <td>no-credit-card</td>\n",
       "      <td>2019-12-15</td>\n",
       "      <td>2019-12-15</td>\n",
       "      <td>NaT</td>\n",
       "      <td>2019-12-25</td>\n",
       "      <td>patient-show</td>\n",
       "      <td>2019-12-30</td>\n",
       "      <td>1</td>\n",
       "    </tr>\n",
       "    <tr>\n",
       "      <th>220</th>\n",
       "      <td>582062461609</td>\n",
       "      <td>with-credit-card</td>\n",
       "      <td>2019-12-23</td>\n",
       "      <td>NaT</td>\n",
       "      <td>NaT</td>\n",
       "      <td>2020-01-05</td>\n",
       "      <td>patient-show</td>\n",
       "      <td>2020-01-07</td>\n",
       "      <td>1</td>\n",
       "    </tr>\n",
       "    <tr>\n",
       "      <th>241</th>\n",
       "      <td>707113153202</td>\n",
       "      <td>with-credit-card</td>\n",
       "      <td>2019-12-18</td>\n",
       "      <td>2019-12-18</td>\n",
       "      <td>NaT</td>\n",
       "      <td>2019-12-21</td>\n",
       "      <td>patient-show</td>\n",
       "      <td>2019-12-22</td>\n",
       "      <td>1</td>\n",
       "    </tr>\n",
       "    <tr>\n",
       "      <th>246</th>\n",
       "      <td>811952273739</td>\n",
       "      <td>with-credit-card</td>\n",
       "      <td>2019-12-22</td>\n",
       "      <td>NaT</td>\n",
       "      <td>NaT</td>\n",
       "      <td>NaT</td>\n",
       "      <td>patient-show</td>\n",
       "      <td>2020-01-21</td>\n",
       "      <td>1</td>\n",
       "    </tr>\n",
       "  </tbody>\n",
       "</table>\n",
       "</div>"
      ],
      "text/plain": [
       "       patient_id  experiment_group patient_created_at first_cx_booked_at  \\\n",
       "0     69522307739  with-credit-card         2019-12-20         2019-12-21   \n",
       "31   534789265442    no-credit-card         2019-12-22         2019-12-22   \n",
       "39   975158146804    no-credit-card         2019-12-18         2019-12-18   \n",
       "58   667418593631    no-credit-card         2019-12-21         2019-12-15   \n",
       "94   370546689849    no-credit-card         2019-12-26         2019-12-26   \n",
       "115  188754803197  with-credit-card         2019-12-22         2019-12-22   \n",
       "117  460197213462  with-credit-card         2019-12-26                NaT   \n",
       "155  754288149560    no-credit-card         2019-12-29         2019-12-29   \n",
       "184  313552299032    no-credit-card         2019-12-15         2019-12-15   \n",
       "220  582062461609  with-credit-card         2019-12-23                NaT   \n",
       "241  707113153202  with-credit-card         2019-12-18         2019-12-18   \n",
       "246  811952273739  with-credit-card         2019-12-22                NaT   \n",
       "\n",
       "    first_cx_cancelled_at cx_appointment_at appointment_attendance  \\\n",
       "0                     NaT        2020-01-11           patient-show   \n",
       "31                    NaT        2020-01-27           patient-show   \n",
       "39                    NaT        2019-12-23           patient-show   \n",
       "58                    NaT        2019-12-23           patient-show   \n",
       "94                    NaT        2020-02-19           patient-show   \n",
       "115                   NaT        2019-12-23           patient-show   \n",
       "117                   NaT               NaT           patient-show   \n",
       "155                   NaT        2020-01-11           patient-show   \n",
       "184                   NaT        2019-12-25           patient-show   \n",
       "220                   NaT        2020-01-05           patient-show   \n",
       "241                   NaT        2019-12-21           patient-show   \n",
       "246                   NaT               NaT           patient-show   \n",
       "\n",
       "    px_booked_at  converted  \n",
       "0     2020-01-13          1  \n",
       "31    2020-02-18          1  \n",
       "39    2020-01-06          1  \n",
       "58    2019-12-24          1  \n",
       "94    2020-02-20          1  \n",
       "115   2019-12-24          1  \n",
       "117   2020-01-14          1  \n",
       "155   2020-01-13          1  \n",
       "184   2019-12-30          1  \n",
       "220   2020-01-07          1  \n",
       "241   2019-12-22          1  \n",
       "246   2020-01-21          1  "
      ]
     },
     "execution_count": 35,
     "metadata": {},
     "output_type": "execute_result"
    }
   ],
   "source": [
    "df[~df.px_booked_at.isnull()]  #display all rows where \"px_booked_at\" is  ot null to see if they have 1 in \"converted\" col"
   ]
  },
  {
   "cell_type": "markdown",
   "id": "1a9f713c",
   "metadata": {},
   "source": [
    "# Count of customer journey and more missing values"
   ]
  },
  {
   "cell_type": "code",
   "execution_count": 36,
   "id": "5617a1a2",
   "metadata": {
    "scrolled": false
   },
   "outputs": [
    {
     "data": {
      "text/plain": [
       "Index(['patient_id', 'experiment_group', 'patient_created_at',\n",
       "       'first_cx_booked_at', 'first_cx_cancelled_at', 'cx_appointment_at',\n",
       "       'appointment_attendance', 'px_booked_at', 'converted'],\n",
       "      dtype='object')"
      ]
     },
     "execution_count": 36,
     "metadata": {},
     "output_type": "execute_result"
    }
   ],
   "source": [
    "df.columns"
   ]
  },
  {
   "cell_type": "code",
   "execution_count": 37,
   "id": "7083f752",
   "metadata": {
    "scrolled": true
   },
   "outputs": [
    {
     "data": {
      "text/html": [
       "<div>\n",
       "<style scoped>\n",
       "    .dataframe tbody tr th:only-of-type {\n",
       "        vertical-align: middle;\n",
       "    }\n",
       "\n",
       "    .dataframe tbody tr th {\n",
       "        vertical-align: top;\n",
       "    }\n",
       "\n",
       "    .dataframe thead th {\n",
       "        text-align: right;\n",
       "    }\n",
       "</style>\n",
       "<table border=\"1\" class=\"dataframe\">\n",
       "  <thead>\n",
       "    <tr style=\"text-align: right;\">\n",
       "      <th></th>\n",
       "      <th>experiment_group</th>\n",
       "      <th>patient_created_at</th>\n",
       "      <th>first_cx_booked_at</th>\n",
       "      <th>first_cx_cancelled_at</th>\n",
       "      <th>cx_appointment_at</th>\n",
       "      <th>appointment_attendance</th>\n",
       "      <th>px_booked_at</th>\n",
       "    </tr>\n",
       "  </thead>\n",
       "  <tbody>\n",
       "    <tr>\n",
       "      <th>0</th>\n",
       "      <td>no-credit-card</td>\n",
       "      <td>141</td>\n",
       "      <td>84</td>\n",
       "      <td>10</td>\n",
       "      <td>76</td>\n",
       "      <td>76</td>\n",
       "      <td>6</td>\n",
       "    </tr>\n",
       "    <tr>\n",
       "      <th>1</th>\n",
       "      <td>with-credit-card</td>\n",
       "      <td>101</td>\n",
       "      <td>45</td>\n",
       "      <td>6</td>\n",
       "      <td>43</td>\n",
       "      <td>45</td>\n",
       "      <td>6</td>\n",
       "    </tr>\n",
       "  </tbody>\n",
       "</table>\n",
       "</div>"
      ],
      "text/plain": [
       "   experiment_group  patient_created_at  first_cx_booked_at  \\\n",
       "0    no-credit-card                 141                  84   \n",
       "1  with-credit-card                 101                  45   \n",
       "\n",
       "   first_cx_cancelled_at  cx_appointment_at  appointment_attendance  \\\n",
       "0                     10                 76                      76   \n",
       "1                      6                 43                      45   \n",
       "\n",
       "   px_booked_at  \n",
       "0             6  \n",
       "1             6  "
      ]
     },
     "execution_count": 37,
     "metadata": {},
     "output_type": "execute_result"
    }
   ],
   "source": [
    "df.groupby(['experiment_group']).count()[['patient_created_at', 'first_cx_booked_at', 'first_cx_cancelled_at', \n",
    "                                         'cx_appointment_at', 'appointment_attendance', 'px_booked_at']].reset_index()"
   ]
  },
  {
   "cell_type": "code",
   "execution_count": 38,
   "id": "f62f118f",
   "metadata": {},
   "outputs": [
    {
     "data": {
      "text/plain": [
       "<AxesSubplot:xlabel='experiment_group'>"
      ]
     },
     "execution_count": 38,
     "metadata": {},
     "output_type": "execute_result"
    },
    {
     "data": {
      "image/png": "[encoded data removed]",
      "text/plain": [
       "<Figure size 720x360 with 1 Axes>"
      ]
     },
     "metadata": {},
     "output_type": "display_data"
    }
   ],
   "source": [
    "df.groupby(['experiment_group']).count()[['patient_created_at', 'first_cx_booked_at', 'first_cx_cancelled_at', \n",
    "                                         'cx_appointment_at', 'appointment_attendance', 'px_booked_at']].plot(kind='bar',figsize=(10,5))"
   ]
  },
  {
   "cell_type": "code",
   "execution_count": 39,
   "id": "c9de8dba",
   "metadata": {},
   "outputs": [
    {
     "data": {
      "text/html": [
       "<div>\n",
       "<style scoped>\n",
       "    .dataframe tbody tr th:only-of-type {\n",
       "        vertical-align: middle;\n",
       "    }\n",
       "\n",
       "    .dataframe tbody tr th {\n",
       "        vertical-align: top;\n",
       "    }\n",
       "\n",
       "    .dataframe thead th {\n",
       "        text-align: right;\n",
       "    }\n",
       "</style>\n",
       "<table border=\"1\" class=\"dataframe\">\n",
       "  <thead>\n",
       "    <tr style=\"text-align: right;\">\n",
       "      <th></th>\n",
       "      <th>experiment_group</th>\n",
       "      <th>appointment_attendance</th>\n",
       "      <th>patient_created_at</th>\n",
       "      <th>first_cx_booked_at</th>\n",
       "      <th>first_cx_cancelled_at</th>\n",
       "      <th>cx_appointment_at</th>\n",
       "      <th>px_booked_at</th>\n",
       "    </tr>\n",
       "  </thead>\n",
       "  <tbody>\n",
       "    <tr>\n",
       "      <th>0</th>\n",
       "      <td>no-credit-card</td>\n",
       "      <td>patient-no-show</td>\n",
       "      <td>7</td>\n",
       "      <td>7</td>\n",
       "      <td>0</td>\n",
       "      <td>7</td>\n",
       "      <td>0</td>\n",
       "    </tr>\n",
       "    <tr>\n",
       "      <th>1</th>\n",
       "      <td>no-credit-card</td>\n",
       "      <td>patient-show</td>\n",
       "      <td>69</td>\n",
       "      <td>69</td>\n",
       "      <td>2</td>\n",
       "      <td>69</td>\n",
       "      <td>6</td>\n",
       "    </tr>\n",
       "    <tr>\n",
       "      <th>2</th>\n",
       "      <td>with-credit-card</td>\n",
       "      <td>patient-no-show</td>\n",
       "      <td>7</td>\n",
       "      <td>6</td>\n",
       "      <td>1</td>\n",
       "      <td>7</td>\n",
       "      <td>0</td>\n",
       "    </tr>\n",
       "    <tr>\n",
       "      <th>3</th>\n",
       "      <td>with-credit-card</td>\n",
       "      <td>patient-show</td>\n",
       "      <td>38</td>\n",
       "      <td>34</td>\n",
       "      <td>0</td>\n",
       "      <td>36</td>\n",
       "      <td>6</td>\n",
       "    </tr>\n",
       "  </tbody>\n",
       "</table>\n",
       "</div>"
      ],
      "text/plain": [
       "   experiment_group appointment_attendance  patient_created_at  \\\n",
       "0    no-credit-card        patient-no-show                   7   \n",
       "1    no-credit-card           patient-show                  69   \n",
       "2  with-credit-card        patient-no-show                   7   \n",
       "3  with-credit-card           patient-show                  38   \n",
       "\n",
       "   first_cx_booked_at  first_cx_cancelled_at  cx_appointment_at  px_booked_at  \n",
       "0                   7                      0                  7             0  \n",
       "1                  69                      2                 69             6  \n",
       "2                   6                      1                  7             0  \n",
       "3                  34                      0                 36             6  "
      ]
     },
     "execution_count": 39,
     "metadata": {},
     "output_type": "execute_result"
    }
   ],
   "source": [
    "df.groupby(['experiment_group', 'appointment_attendance']).count()[['patient_created_at', 'first_cx_booked_at', \n",
    "                                                                    'first_cx_cancelled_at', 'cx_appointment_at', \n",
    "                                                                    'px_booked_at']].reset_index()"
   ]
  },
  {
   "cell_type": "markdown",
   "id": "41a8f389",
   "metadata": {},
   "source": [
    "**It is very strange that we have more appointments than actual bookings in rows 3 and 4.**"
   ]
  },
  {
   "cell_type": "code",
   "execution_count": 40,
   "id": "41e1c70c",
   "metadata": {
    "scrolled": false
   },
   "outputs": [
    {
     "data": {
      "text/html": [
       "<div>\n",
       "<style scoped>\n",
       "    .dataframe tbody tr th:only-of-type {\n",
       "        vertical-align: middle;\n",
       "    }\n",
       "\n",
       "    .dataframe tbody tr th {\n",
       "        vertical-align: top;\n",
       "    }\n",
       "\n",
       "    .dataframe thead th {\n",
       "        text-align: right;\n",
       "    }\n",
       "</style>\n",
       "<table border=\"1\" class=\"dataframe\">\n",
       "  <thead>\n",
       "    <tr style=\"text-align: right;\">\n",
       "      <th></th>\n",
       "      <th>patient_id</th>\n",
       "      <th>experiment_group</th>\n",
       "      <th>patient_created_at</th>\n",
       "      <th>first_cx_booked_at</th>\n",
       "      <th>first_cx_cancelled_at</th>\n",
       "      <th>cx_appointment_at</th>\n",
       "      <th>appointment_attendance</th>\n",
       "      <th>px_booked_at</th>\n",
       "      <th>converted</th>\n",
       "    </tr>\n",
       "  </thead>\n",
       "  <tbody>\n",
       "    <tr>\n",
       "      <th>117</th>\n",
       "      <td>460197213462</td>\n",
       "      <td>with-credit-card</td>\n",
       "      <td>2019-12-26</td>\n",
       "      <td>NaT</td>\n",
       "      <td>NaT</td>\n",
       "      <td>NaT</td>\n",
       "      <td>patient-show</td>\n",
       "      <td>2020-01-14</td>\n",
       "      <td>1</td>\n",
       "    </tr>\n",
       "    <tr>\n",
       "      <th>246</th>\n",
       "      <td>811952273739</td>\n",
       "      <td>with-credit-card</td>\n",
       "      <td>2019-12-22</td>\n",
       "      <td>NaT</td>\n",
       "      <td>NaT</td>\n",
       "      <td>NaT</td>\n",
       "      <td>patient-show</td>\n",
       "      <td>2020-01-21</td>\n",
       "      <td>1</td>\n",
       "    </tr>\n",
       "  </tbody>\n",
       "</table>\n",
       "</div>"
      ],
      "text/plain": [
       "       patient_id  experiment_group patient_created_at first_cx_booked_at  \\\n",
       "117  460197213462  with-credit-card         2019-12-26                NaT   \n",
       "246  811952273739  with-credit-card         2019-12-22                NaT   \n",
       "\n",
       "    first_cx_cancelled_at cx_appointment_at appointment_attendance  \\\n",
       "117                   NaT               NaT           patient-show   \n",
       "246                   NaT               NaT           patient-show   \n",
       "\n",
       "    px_booked_at  converted  \n",
       "117   2020-01-14          1  \n",
       "246   2020-01-21          1  "
      ]
     },
     "execution_count": 40,
     "metadata": {},
     "output_type": "execute_result"
    }
   ],
   "source": [
    "df.loc[(df['appointment_attendance'] == 'patient-show') & (df['cx_appointment_at'].isnull())]"
   ]
  },
  {
   "cell_type": "code",
   "execution_count": 41,
   "id": "99dd3d2f",
   "metadata": {
    "scrolled": true
   },
   "outputs": [
    {
     "data": {
      "text/html": [
       "<div>\n",
       "<style scoped>\n",
       "    .dataframe tbody tr th:only-of-type {\n",
       "        vertical-align: middle;\n",
       "    }\n",
       "\n",
       "    .dataframe tbody tr th {\n",
       "        vertical-align: top;\n",
       "    }\n",
       "\n",
       "    .dataframe thead th {\n",
       "        text-align: right;\n",
       "    }\n",
       "</style>\n",
       "<table border=\"1\" class=\"dataframe\">\n",
       "  <thead>\n",
       "    <tr style=\"text-align: right;\">\n",
       "      <th></th>\n",
       "      <th>patient_id</th>\n",
       "      <th>experiment_group</th>\n",
       "      <th>patient_created_at</th>\n",
       "      <th>first_cx_booked_at</th>\n",
       "      <th>first_cx_cancelled_at</th>\n",
       "      <th>cx_appointment_at</th>\n",
       "      <th>appointment_attendance</th>\n",
       "      <th>px_booked_at</th>\n",
       "      <th>converted</th>\n",
       "    </tr>\n",
       "  </thead>\n",
       "  <tbody>\n",
       "    <tr>\n",
       "      <th>117</th>\n",
       "      <td>460197213462</td>\n",
       "      <td>with-credit-card</td>\n",
       "      <td>2019-12-26</td>\n",
       "      <td>NaT</td>\n",
       "      <td>NaT</td>\n",
       "      <td>NaT</td>\n",
       "      <td>patient-show</td>\n",
       "      <td>2020-01-14</td>\n",
       "      <td>1</td>\n",
       "    </tr>\n",
       "    <tr>\n",
       "      <th>152</th>\n",
       "      <td>507711602026</td>\n",
       "      <td>with-credit-card</td>\n",
       "      <td>2019-12-28</td>\n",
       "      <td>NaT</td>\n",
       "      <td>NaT</td>\n",
       "      <td>2020-02-02</td>\n",
       "      <td>patient-show</td>\n",
       "      <td>NaT</td>\n",
       "      <td>0</td>\n",
       "    </tr>\n",
       "    <tr>\n",
       "      <th>220</th>\n",
       "      <td>582062461609</td>\n",
       "      <td>with-credit-card</td>\n",
       "      <td>2019-12-23</td>\n",
       "      <td>NaT</td>\n",
       "      <td>NaT</td>\n",
       "      <td>2020-01-05</td>\n",
       "      <td>patient-show</td>\n",
       "      <td>2020-01-07</td>\n",
       "      <td>1</td>\n",
       "    </tr>\n",
       "    <tr>\n",
       "      <th>246</th>\n",
       "      <td>811952273739</td>\n",
       "      <td>with-credit-card</td>\n",
       "      <td>2019-12-22</td>\n",
       "      <td>NaT</td>\n",
       "      <td>NaT</td>\n",
       "      <td>NaT</td>\n",
       "      <td>patient-show</td>\n",
       "      <td>2020-01-21</td>\n",
       "      <td>1</td>\n",
       "    </tr>\n",
       "  </tbody>\n",
       "</table>\n",
       "</div>"
      ],
      "text/plain": [
       "       patient_id  experiment_group patient_created_at first_cx_booked_at  \\\n",
       "117  460197213462  with-credit-card         2019-12-26                NaT   \n",
       "152  507711602026  with-credit-card         2019-12-28                NaT   \n",
       "220  582062461609  with-credit-card         2019-12-23                NaT   \n",
       "246  811952273739  with-credit-card         2019-12-22                NaT   \n",
       "\n",
       "    first_cx_cancelled_at cx_appointment_at appointment_attendance  \\\n",
       "117                   NaT               NaT           patient-show   \n",
       "152                   NaT        2020-02-02           patient-show   \n",
       "220                   NaT        2020-01-05           patient-show   \n",
       "246                   NaT               NaT           patient-show   \n",
       "\n",
       "    px_booked_at  converted  \n",
       "117   2020-01-14          1  \n",
       "152          NaT          0  \n",
       "220   2020-01-07          1  \n",
       "246   2020-01-21          1  "
      ]
     },
     "execution_count": 41,
     "metadata": {},
     "output_type": "execute_result"
    }
   ],
   "source": [
    "df.loc[(df['appointment_attendance'] == 'patient-show') & (df['first_cx_booked_at'].isnull())]"
   ]
  },
  {
   "cell_type": "code",
   "execution_count": 42,
   "id": "4a2682be",
   "metadata": {
    "scrolled": true
   },
   "outputs": [
    {
     "data": {
      "text/html": [
       "<div>\n",
       "<style scoped>\n",
       "    .dataframe tbody tr th:only-of-type {\n",
       "        vertical-align: middle;\n",
       "    }\n",
       "\n",
       "    .dataframe tbody tr th {\n",
       "        vertical-align: top;\n",
       "    }\n",
       "\n",
       "    .dataframe thead th {\n",
       "        text-align: right;\n",
       "    }\n",
       "</style>\n",
       "<table border=\"1\" class=\"dataframe\">\n",
       "  <thead>\n",
       "    <tr style=\"text-align: right;\">\n",
       "      <th></th>\n",
       "      <th>patient_id</th>\n",
       "      <th>experiment_group</th>\n",
       "      <th>patient_created_at</th>\n",
       "      <th>first_cx_booked_at</th>\n",
       "      <th>first_cx_cancelled_at</th>\n",
       "      <th>cx_appointment_at</th>\n",
       "      <th>appointment_attendance</th>\n",
       "      <th>px_booked_at</th>\n",
       "      <th>converted</th>\n",
       "    </tr>\n",
       "  </thead>\n",
       "  <tbody>\n",
       "    <tr>\n",
       "      <th>25</th>\n",
       "      <td>974812628843</td>\n",
       "      <td>with-credit-card</td>\n",
       "      <td>2019-12-16</td>\n",
       "      <td>NaT</td>\n",
       "      <td>NaT</td>\n",
       "      <td>2019-12-23</td>\n",
       "      <td>patient-no-show</td>\n",
       "      <td>NaT</td>\n",
       "      <td>0</td>\n",
       "    </tr>\n",
       "    <tr>\n",
       "      <th>117</th>\n",
       "      <td>460197213462</td>\n",
       "      <td>with-credit-card</td>\n",
       "      <td>2019-12-26</td>\n",
       "      <td>NaT</td>\n",
       "      <td>NaT</td>\n",
       "      <td>NaT</td>\n",
       "      <td>patient-show</td>\n",
       "      <td>2020-01-14</td>\n",
       "      <td>1</td>\n",
       "    </tr>\n",
       "    <tr>\n",
       "      <th>152</th>\n",
       "      <td>507711602026</td>\n",
       "      <td>with-credit-card</td>\n",
       "      <td>2019-12-28</td>\n",
       "      <td>NaT</td>\n",
       "      <td>NaT</td>\n",
       "      <td>2020-02-02</td>\n",
       "      <td>patient-show</td>\n",
       "      <td>NaT</td>\n",
       "      <td>0</td>\n",
       "    </tr>\n",
       "    <tr>\n",
       "      <th>220</th>\n",
       "      <td>582062461609</td>\n",
       "      <td>with-credit-card</td>\n",
       "      <td>2019-12-23</td>\n",
       "      <td>NaT</td>\n",
       "      <td>NaT</td>\n",
       "      <td>2020-01-05</td>\n",
       "      <td>patient-show</td>\n",
       "      <td>2020-01-07</td>\n",
       "      <td>1</td>\n",
       "    </tr>\n",
       "    <tr>\n",
       "      <th>246</th>\n",
       "      <td>811952273739</td>\n",
       "      <td>with-credit-card</td>\n",
       "      <td>2019-12-22</td>\n",
       "      <td>NaT</td>\n",
       "      <td>NaT</td>\n",
       "      <td>NaT</td>\n",
       "      <td>patient-show</td>\n",
       "      <td>2020-01-21</td>\n",
       "      <td>1</td>\n",
       "    </tr>\n",
       "  </tbody>\n",
       "</table>\n",
       "</div>"
      ],
      "text/plain": [
       "       patient_id  experiment_group patient_created_at first_cx_booked_at  \\\n",
       "25   974812628843  with-credit-card         2019-12-16                NaT   \n",
       "117  460197213462  with-credit-card         2019-12-26                NaT   \n",
       "152  507711602026  with-credit-card         2019-12-28                NaT   \n",
       "220  582062461609  with-credit-card         2019-12-23                NaT   \n",
       "246  811952273739  with-credit-card         2019-12-22                NaT   \n",
       "\n",
       "    first_cx_cancelled_at cx_appointment_at appointment_attendance  \\\n",
       "25                    NaT        2019-12-23        patient-no-show   \n",
       "117                   NaT               NaT           patient-show   \n",
       "152                   NaT        2020-02-02           patient-show   \n",
       "220                   NaT        2020-01-05           patient-show   \n",
       "246                   NaT               NaT           patient-show   \n",
       "\n",
       "    px_booked_at  converted  \n",
       "25           NaT          0  \n",
       "117   2020-01-14          1  \n",
       "152          NaT          0  \n",
       "220   2020-01-07          1  \n",
       "246   2020-01-21          1  "
      ]
     },
     "execution_count": 42,
     "metadata": {},
     "output_type": "execute_result"
    }
   ],
   "source": [
    "df.loc[(~df['appointment_attendance'].isnull()) & (df['first_cx_booked_at'].isnull())]"
   ]
  },
  {
   "cell_type": "code",
   "execution_count": 43,
   "id": "74f7d828",
   "metadata": {},
   "outputs": [],
   "source": [
    "patients = df.loc[(~df['appointment_attendance'].isnull()) & (df['first_cx_booked_at'].isnull())]['patient_id']"
   ]
  },
  {
   "cell_type": "markdown",
   "id": "bf8b99d4",
   "metadata": {},
   "source": [
    "**The above records are a little bit problematic because it does not make sense that a patient would have a status in \"appointment_attendance\" column but would not have the booking date OR neither the booking date nor the appointment date.\n",
    "Three of those 5 records actually had a procedure so it does not seem right to assume that they didn't have a consultation and that the appointment_attendance info is wrong.**\n",
    "\n",
    "**In that case, for only those 5 records showing above, I will:**\n",
    "\n",
    "**-fill the missing date in column \"first_cx_booked_at\" with the values from column \"patient_created_at\", and**\n",
    "\n",
    "**-fill the missing date in column \"cx_appointment_at\" with the average value from that column.**"
   ]
  },
  {
   "cell_type": "code",
   "execution_count": 44,
   "id": "284d1f1e",
   "metadata": {
    "scrolled": true
   },
   "outputs": [
    {
     "data": {
      "text/plain": [
       "Timestamp('2020-01-14 23:11:35.798319360')"
      ]
     },
     "execution_count": 44,
     "metadata": {},
     "output_type": "execute_result"
    }
   ],
   "source": [
    "df[\"cx_appointment_at\"].mean()  #the average appointment date"
   ]
  },
  {
   "cell_type": "code",
   "execution_count": 45,
   "id": "ec845704",
   "metadata": {},
   "outputs": [],
   "source": [
    "for i in patients:\n",
    "    df.loc[df.patient_id==i, 'first_cx_booked_at'] = df.loc[df.patient_id==i, 'first_cx_booked_at'].fillna(df.loc[df.patient_id==i, 'patient_created_at'])"
   ]
  },
  {
   "cell_type": "code",
   "execution_count": 46,
   "id": "a7d52286",
   "metadata": {},
   "outputs": [],
   "source": [
    "df.loc[df.patient_id==460197213462, 'cx_appointment_at'] = df.loc[df.patient_id==460197213462, 'cx_appointment_at'].fillna('2020-01-14')"
   ]
  },
  {
   "cell_type": "code",
   "execution_count": 47,
   "id": "4291ec68",
   "metadata": {},
   "outputs": [],
   "source": [
    "df.loc[df.patient_id==811952273739, 'cx_appointment_at'] = df.loc[df.patient_id==811952273739, 'cx_appointment_at'].fillna('2020-01-14')"
   ]
  },
  {
   "cell_type": "code",
   "execution_count": 48,
   "id": "29441e97",
   "metadata": {
    "scrolled": true
   },
   "outputs": [
    {
     "data": {
      "text/html": [
       "<div>\n",
       "<style scoped>\n",
       "    .dataframe tbody tr th:only-of-type {\n",
       "        vertical-align: middle;\n",
       "    }\n",
       "\n",
       "    .dataframe tbody tr th {\n",
       "        vertical-align: top;\n",
       "    }\n",
       "\n",
       "    .dataframe thead th {\n",
       "        text-align: right;\n",
       "    }\n",
       "</style>\n",
       "<table border=\"1\" class=\"dataframe\">\n",
       "  <thead>\n",
       "    <tr style=\"text-align: right;\">\n",
       "      <th></th>\n",
       "      <th>patient_id</th>\n",
       "      <th>experiment_group</th>\n",
       "      <th>patient_created_at</th>\n",
       "      <th>first_cx_booked_at</th>\n",
       "      <th>first_cx_cancelled_at</th>\n",
       "      <th>cx_appointment_at</th>\n",
       "      <th>appointment_attendance</th>\n",
       "      <th>px_booked_at</th>\n",
       "      <th>converted</th>\n",
       "    </tr>\n",
       "  </thead>\n",
       "  <tbody>\n",
       "    <tr>\n",
       "      <th>25</th>\n",
       "      <td>974812628843</td>\n",
       "      <td>with-credit-card</td>\n",
       "      <td>2019-12-16</td>\n",
       "      <td>2019-12-16</td>\n",
       "      <td>NaT</td>\n",
       "      <td>2019-12-23</td>\n",
       "      <td>patient-no-show</td>\n",
       "      <td>NaT</td>\n",
       "      <td>0</td>\n",
       "    </tr>\n",
       "    <tr>\n",
       "      <th>117</th>\n",
       "      <td>460197213462</td>\n",
       "      <td>with-credit-card</td>\n",
       "      <td>2019-12-26</td>\n",
       "      <td>2019-12-26</td>\n",
       "      <td>NaT</td>\n",
       "      <td>2020-01-14</td>\n",
       "      <td>patient-show</td>\n",
       "      <td>2020-01-14</td>\n",
       "      <td>1</td>\n",
       "    </tr>\n",
       "    <tr>\n",
       "      <th>152</th>\n",
       "      <td>507711602026</td>\n",
       "      <td>with-credit-card</td>\n",
       "      <td>2019-12-28</td>\n",
       "      <td>2019-12-28</td>\n",
       "      <td>NaT</td>\n",
       "      <td>2020-02-02</td>\n",
       "      <td>patient-show</td>\n",
       "      <td>NaT</td>\n",
       "      <td>0</td>\n",
       "    </tr>\n",
       "    <tr>\n",
       "      <th>220</th>\n",
       "      <td>582062461609</td>\n",
       "      <td>with-credit-card</td>\n",
       "      <td>2019-12-23</td>\n",
       "      <td>2019-12-23</td>\n",
       "      <td>NaT</td>\n",
       "      <td>2020-01-05</td>\n",
       "      <td>patient-show</td>\n",
       "      <td>2020-01-07</td>\n",
       "      <td>1</td>\n",
       "    </tr>\n",
       "    <tr>\n",
       "      <th>246</th>\n",
       "      <td>811952273739</td>\n",
       "      <td>with-credit-card</td>\n",
       "      <td>2019-12-22</td>\n",
       "      <td>2019-12-22</td>\n",
       "      <td>NaT</td>\n",
       "      <td>2020-01-14</td>\n",
       "      <td>patient-show</td>\n",
       "      <td>2020-01-21</td>\n",
       "      <td>1</td>\n",
       "    </tr>\n",
       "  </tbody>\n",
       "</table>\n",
       "</div>"
      ],
      "text/plain": [
       "       patient_id  experiment_group patient_created_at first_cx_booked_at  \\\n",
       "25   974812628843  with-credit-card         2019-12-16         2019-12-16   \n",
       "117  460197213462  with-credit-card         2019-12-26         2019-12-26   \n",
       "152  507711602026  with-credit-card         2019-12-28         2019-12-28   \n",
       "220  582062461609  with-credit-card         2019-12-23         2019-12-23   \n",
       "246  811952273739  with-credit-card         2019-12-22         2019-12-22   \n",
       "\n",
       "    first_cx_cancelled_at cx_appointment_at appointment_attendance  \\\n",
       "25                    NaT        2019-12-23        patient-no-show   \n",
       "117                   NaT        2020-01-14           patient-show   \n",
       "152                   NaT        2020-02-02           patient-show   \n",
       "220                   NaT        2020-01-05           patient-show   \n",
       "246                   NaT        2020-01-14           patient-show   \n",
       "\n",
       "    px_booked_at  converted  \n",
       "25           NaT          0  \n",
       "117   2020-01-14          1  \n",
       "152          NaT          0  \n",
       "220   2020-01-07          1  \n",
       "246   2020-01-21          1  "
      ]
     },
     "execution_count": 48,
     "metadata": {},
     "output_type": "execute_result"
    }
   ],
   "source": [
    "df.loc[df.patient_id.isin(patients)]"
   ]
  },
  {
   "cell_type": "code",
   "execution_count": 49,
   "id": "cefc03cd",
   "metadata": {},
   "outputs": [
    {
     "data": {
      "text/plain": [
       "patient_id                  0\n",
       "experiment_group            0\n",
       "patient_created_at          0\n",
       "first_cx_booked_at        108\n",
       "first_cx_cancelled_at     226\n",
       "cx_appointment_at         121\n",
       "appointment_attendance    121\n",
       "px_booked_at              230\n",
       "converted                   0\n",
       "dtype: int64"
      ]
     },
     "execution_count": 49,
     "metadata": {},
     "output_type": "execute_result"
    }
   ],
   "source": [
    "df.isnull().sum()"
   ]
  },
  {
   "cell_type": "code",
   "execution_count": 50,
   "id": "3671545a",
   "metadata": {},
   "outputs": [
    {
     "data": {
      "image/png": "[encoded data removed]",
      "text/plain": [
       "<Figure size 1080x576 with 2 Axes>"
      ]
     },
     "metadata": {},
     "output_type": "display_data"
    }
   ],
   "source": [
    "sns.set(rc={'figure.figsize':(15, 8)})\n",
    "sns.heatmap(df.isna(),cmap='viridis', yticklabels=False)\n",
    "plt.show()"
   ]
  },
  {
   "cell_type": "code",
   "execution_count": 51,
   "id": "76604f9c",
   "metadata": {},
   "outputs": [
    {
     "data": {
      "text/plain": [
       "<AxesSubplot:xlabel='experiment_group'>"
      ]
     },
     "execution_count": 51,
     "metadata": {},
     "output_type": "execute_result"
    },
    {
     "data": {
      "image/png": "[encoded data removed]",
      "text/plain": [
       "<Figure size 720x360 with 1 Axes>"
      ]
     },
     "metadata": {},
     "output_type": "display_data"
    }
   ],
   "source": [
    "df.groupby(['experiment_group']).count()[['patient_created_at', 'first_cx_booked_at', 'first_cx_cancelled_at', \n",
    "                                         'cx_appointment_at', 'appointment_attendance', 'px_booked_at']].plot(kind='bar',figsize=(10,5))"
   ]
  },
  {
   "cell_type": "code",
   "execution_count": 52,
   "id": "68df9209",
   "metadata": {},
   "outputs": [
    {
     "data": {
      "text/html": [
       "<div>\n",
       "<style scoped>\n",
       "    .dataframe tbody tr th:only-of-type {\n",
       "        vertical-align: middle;\n",
       "    }\n",
       "\n",
       "    .dataframe tbody tr th {\n",
       "        vertical-align: top;\n",
       "    }\n",
       "\n",
       "    .dataframe thead th {\n",
       "        text-align: right;\n",
       "    }\n",
       "</style>\n",
       "<table border=\"1\" class=\"dataframe\">\n",
       "  <thead>\n",
       "    <tr style=\"text-align: right;\">\n",
       "      <th></th>\n",
       "      <th>patient_id</th>\n",
       "      <th>experiment_group</th>\n",
       "      <th>patient_created_at</th>\n",
       "      <th>first_cx_booked_at</th>\n",
       "      <th>first_cx_cancelled_at</th>\n",
       "      <th>cx_appointment_at</th>\n",
       "      <th>appointment_attendance</th>\n",
       "      <th>px_booked_at</th>\n",
       "      <th>converted</th>\n",
       "    </tr>\n",
       "  </thead>\n",
       "  <tbody>\n",
       "    <tr>\n",
       "      <th>24</th>\n",
       "      <td>860358654418</td>\n",
       "      <td>no-credit-card</td>\n",
       "      <td>2019-12-23</td>\n",
       "      <td>2019-12-23</td>\n",
       "      <td>2019-12-24</td>\n",
       "      <td>NaT</td>\n",
       "      <td>NaN</td>\n",
       "      <td>NaT</td>\n",
       "      <td>0</td>\n",
       "    </tr>\n",
       "    <tr>\n",
       "      <th>27</th>\n",
       "      <td>849159228711</td>\n",
       "      <td>with-credit-card</td>\n",
       "      <td>2019-12-22</td>\n",
       "      <td>2019-12-22</td>\n",
       "      <td>2019-12-24</td>\n",
       "      <td>NaT</td>\n",
       "      <td>NaN</td>\n",
       "      <td>NaT</td>\n",
       "      <td>0</td>\n",
       "    </tr>\n",
       "    <tr>\n",
       "      <th>54</th>\n",
       "      <td>187379779592</td>\n",
       "      <td>no-credit-card</td>\n",
       "      <td>2019-12-16</td>\n",
       "      <td>2019-12-16</td>\n",
       "      <td>2019-12-25</td>\n",
       "      <td>NaT</td>\n",
       "      <td>NaN</td>\n",
       "      <td>NaT</td>\n",
       "      <td>0</td>\n",
       "    </tr>\n",
       "    <tr>\n",
       "      <th>74</th>\n",
       "      <td>215020880332</td>\n",
       "      <td>no-credit-card</td>\n",
       "      <td>2019-12-25</td>\n",
       "      <td>2019-12-25</td>\n",
       "      <td>2019-12-25</td>\n",
       "      <td>NaT</td>\n",
       "      <td>NaN</td>\n",
       "      <td>NaT</td>\n",
       "      <td>0</td>\n",
       "    </tr>\n",
       "    <tr>\n",
       "      <th>109</th>\n",
       "      <td>489687504683</td>\n",
       "      <td>with-credit-card</td>\n",
       "      <td>2019-12-22</td>\n",
       "      <td>2019-12-23</td>\n",
       "      <td>2019-12-26</td>\n",
       "      <td>NaT</td>\n",
       "      <td>NaN</td>\n",
       "      <td>NaT</td>\n",
       "      <td>0</td>\n",
       "    </tr>\n",
       "    <tr>\n",
       "      <th>110</th>\n",
       "      <td>997065639838</td>\n",
       "      <td>no-credit-card</td>\n",
       "      <td>2019-12-17</td>\n",
       "      <td>2019-12-17</td>\n",
       "      <td>2019-12-18</td>\n",
       "      <td>NaT</td>\n",
       "      <td>NaN</td>\n",
       "      <td>NaT</td>\n",
       "      <td>0</td>\n",
       "    </tr>\n",
       "    <tr>\n",
       "      <th>140</th>\n",
       "      <td>898547104331</td>\n",
       "      <td>no-credit-card</td>\n",
       "      <td>2019-12-24</td>\n",
       "      <td>2019-12-24</td>\n",
       "      <td>2019-12-25</td>\n",
       "      <td>NaT</td>\n",
       "      <td>NaN</td>\n",
       "      <td>NaT</td>\n",
       "      <td>0</td>\n",
       "    </tr>\n",
       "    <tr>\n",
       "      <th>169</th>\n",
       "      <td>860268115663</td>\n",
       "      <td>with-credit-card</td>\n",
       "      <td>2019-12-19</td>\n",
       "      <td>2019-12-19</td>\n",
       "      <td>2019-12-21</td>\n",
       "      <td>NaT</td>\n",
       "      <td>NaN</td>\n",
       "      <td>NaT</td>\n",
       "      <td>0</td>\n",
       "    </tr>\n",
       "    <tr>\n",
       "      <th>171</th>\n",
       "      <td>663728330829</td>\n",
       "      <td>no-credit-card</td>\n",
       "      <td>2019-12-26</td>\n",
       "      <td>2019-12-26</td>\n",
       "      <td>2019-12-27</td>\n",
       "      <td>NaT</td>\n",
       "      <td>NaN</td>\n",
       "      <td>NaT</td>\n",
       "      <td>0</td>\n",
       "    </tr>\n",
       "    <tr>\n",
       "      <th>172</th>\n",
       "      <td>369776702124</td>\n",
       "      <td>with-credit-card</td>\n",
       "      <td>2019-12-18</td>\n",
       "      <td>2019-12-23</td>\n",
       "      <td>2019-12-27</td>\n",
       "      <td>NaT</td>\n",
       "      <td>NaN</td>\n",
       "      <td>NaT</td>\n",
       "      <td>0</td>\n",
       "    </tr>\n",
       "    <tr>\n",
       "      <th>194</th>\n",
       "      <td>903138834930</td>\n",
       "      <td>no-credit-card</td>\n",
       "      <td>2019-12-24</td>\n",
       "      <td>2019-12-24</td>\n",
       "      <td>2019-12-25</td>\n",
       "      <td>NaT</td>\n",
       "      <td>NaN</td>\n",
       "      <td>NaT</td>\n",
       "      <td>0</td>\n",
       "    </tr>\n",
       "    <tr>\n",
       "      <th>205</th>\n",
       "      <td>265946363007</td>\n",
       "      <td>no-credit-card</td>\n",
       "      <td>2019-12-25</td>\n",
       "      <td>2019-12-25</td>\n",
       "      <td>2019-12-28</td>\n",
       "      <td>NaT</td>\n",
       "      <td>NaN</td>\n",
       "      <td>NaT</td>\n",
       "      <td>0</td>\n",
       "    </tr>\n",
       "    <tr>\n",
       "      <th>239</th>\n",
       "      <td>182171230843</td>\n",
       "      <td>with-credit-card</td>\n",
       "      <td>2019-12-21</td>\n",
       "      <td>2019-12-21</td>\n",
       "      <td>2019-12-22</td>\n",
       "      <td>NaT</td>\n",
       "      <td>NaN</td>\n",
       "      <td>NaT</td>\n",
       "      <td>0</td>\n",
       "    </tr>\n",
       "  </tbody>\n",
       "</table>\n",
       "</div>"
      ],
      "text/plain": [
       "       patient_id  experiment_group patient_created_at first_cx_booked_at  \\\n",
       "24   860358654418    no-credit-card         2019-12-23         2019-12-23   \n",
       "27   849159228711  with-credit-card         2019-12-22         2019-12-22   \n",
       "54   187379779592    no-credit-card         2019-12-16         2019-12-16   \n",
       "74   215020880332    no-credit-card         2019-12-25         2019-12-25   \n",
       "109  489687504683  with-credit-card         2019-12-22         2019-12-23   \n",
       "110  997065639838    no-credit-card         2019-12-17         2019-12-17   \n",
       "140  898547104331    no-credit-card         2019-12-24         2019-12-24   \n",
       "169  860268115663  with-credit-card         2019-12-19         2019-12-19   \n",
       "171  663728330829    no-credit-card         2019-12-26         2019-12-26   \n",
       "172  369776702124  with-credit-card         2019-12-18         2019-12-23   \n",
       "194  903138834930    no-credit-card         2019-12-24         2019-12-24   \n",
       "205  265946363007    no-credit-card         2019-12-25         2019-12-25   \n",
       "239  182171230843  with-credit-card         2019-12-21         2019-12-21   \n",
       "\n",
       "    first_cx_cancelled_at cx_appointment_at appointment_attendance  \\\n",
       "24             2019-12-24               NaT                    NaN   \n",
       "27             2019-12-24               NaT                    NaN   \n",
       "54             2019-12-25               NaT                    NaN   \n",
       "74             2019-12-25               NaT                    NaN   \n",
       "109            2019-12-26               NaT                    NaN   \n",
       "110            2019-12-18               NaT                    NaN   \n",
       "140            2019-12-25               NaT                    NaN   \n",
       "169            2019-12-21               NaT                    NaN   \n",
       "171            2019-12-27               NaT                    NaN   \n",
       "172            2019-12-27               NaT                    NaN   \n",
       "194            2019-12-25               NaT                    NaN   \n",
       "205            2019-12-28               NaT                    NaN   \n",
       "239            2019-12-22               NaT                    NaN   \n",
       "\n",
       "    px_booked_at  converted  \n",
       "24           NaT          0  \n",
       "27           NaT          0  \n",
       "54           NaT          0  \n",
       "74           NaT          0  \n",
       "109          NaT          0  \n",
       "110          NaT          0  \n",
       "140          NaT          0  \n",
       "169          NaT          0  \n",
       "171          NaT          0  \n",
       "172          NaT          0  \n",
       "194          NaT          0  \n",
       "205          NaT          0  \n",
       "239          NaT          0  "
      ]
     },
     "execution_count": 52,
     "metadata": {},
     "output_type": "execute_result"
    }
   ],
   "source": [
    "df.loc[(df['appointment_attendance'].isnull()) & (~df['first_cx_booked_at'].isnull())]"
   ]
  },
  {
   "cell_type": "markdown",
   "id": "9c5a5ffc",
   "metadata": {},
   "source": [
    "# Saving the clean copy of the file."
   ]
  },
  {
   "cell_type": "code",
   "execution_count": 53,
   "id": "0056b574",
   "metadata": {},
   "outputs": [],
   "source": [
    "df.to_csv('study_case_clean.csv')"
   ]
  },
  {
   "cell_type": "markdown",
   "id": "dd376898",
   "metadata": {},
   "source": [
    "# Frequency tables & visualisations"
   ]
  },
  {
   "cell_type": "code",
   "execution_count": 54,
   "id": "49770a52",
   "metadata": {},
   "outputs": [
    {
     "data": {
      "text/plain": [
       "no-credit-card      141\n",
       "with-credit-card    101\n",
       "Name: experiment_group, dtype: int64"
      ]
     },
     "execution_count": 54,
     "metadata": {},
     "output_type": "execute_result"
    }
   ],
   "source": [
    "df.experiment_group.value_counts()"
   ]
  },
  {
   "cell_type": "code",
   "execution_count": 55,
   "id": "9226fd32",
   "metadata": {},
   "outputs": [
    {
     "data": {
      "text/plain": [
       "<AxesSubplot:>"
      ]
     },
     "execution_count": 55,
     "metadata": {},
     "output_type": "execute_result"
    },
    {
     "data": {
      "image/png": "[encoded data removed]",
      "text/plain": [
       "<Figure size 1080x576 with 1 Axes>"
      ]
     },
     "metadata": {},
     "output_type": "display_data"
    }
   ],
   "source": [
    "df.experiment_group.value_counts().plot(kind='bar')"
   ]
  },
  {
   "cell_type": "code",
   "execution_count": 56,
   "id": "e05f8ad4",
   "metadata": {},
   "outputs": [
    {
     "data": {
      "image/png": "[encoded data removed]",
      "text/plain": [
       "<Figure size 1080x576 with 1 Axes>"
      ]
     },
     "metadata": {},
     "output_type": "display_data"
    }
   ],
   "source": [
    "df.experiment_group.value_counts().plot(kind='pie', autopct='%1.0f%%', title='Signups per Experiment Group')\n",
    "plt.savefig('exp_group.png')"
   ]
  },
  {
   "cell_type": "markdown",
   "id": "d2c97fbd",
   "metadata": {},
   "source": [
    "**Patients who were not asked for the credit card details signed up more frequently than those who were asked to provide them OR patiets had a lesser chance of receiving the with-credit -card page. I will check the stistics for patient_created_at per each group to see if the experiment was conducted within the same time period and what was the frequency of singups.**"
   ]
  },
  {
   "cell_type": "code",
   "execution_count": 57,
   "id": "0cace60f",
   "metadata": {},
   "outputs": [
    {
     "data": {
      "text/plain": [
       "count                               242\n",
       "min                 2019-12-15 00:00:00\n",
       "mean      2019-12-21 15:34:12.892561920\n",
       "median              2019-12-22 00:00:00\n",
       "max                 2019-12-29 00:00:00\n",
       "Name: patient_created_at, dtype: object"
      ]
     },
     "execution_count": 57,
     "metadata": {},
     "output_type": "execute_result"
    }
   ],
   "source": [
    "df.agg(['count', 'min', 'mean', 'median', 'max'])['patient_created_at']"
   ]
  },
  {
   "cell_type": "code",
   "execution_count": 58,
   "id": "170eba01",
   "metadata": {},
   "outputs": [
    {
     "data": {
      "text/html": [
       "<div>\n",
       "<style scoped>\n",
       "    .dataframe tbody tr th:only-of-type {\n",
       "        vertical-align: middle;\n",
       "    }\n",
       "\n",
       "    .dataframe tbody tr th {\n",
       "        vertical-align: top;\n",
       "    }\n",
       "\n",
       "    .dataframe thead th {\n",
       "        text-align: right;\n",
       "    }\n",
       "</style>\n",
       "<table border=\"1\" class=\"dataframe\">\n",
       "  <thead>\n",
       "    <tr style=\"text-align: right;\">\n",
       "      <th></th>\n",
       "      <th>count</th>\n",
       "      <th>min</th>\n",
       "      <th>mean</th>\n",
       "      <th>median</th>\n",
       "      <th>max</th>\n",
       "    </tr>\n",
       "    <tr>\n",
       "      <th>experiment_group</th>\n",
       "      <th></th>\n",
       "      <th></th>\n",
       "      <th></th>\n",
       "      <th></th>\n",
       "      <th></th>\n",
       "    </tr>\n",
       "  </thead>\n",
       "  <tbody>\n",
       "    <tr>\n",
       "      <th>no-credit-card</th>\n",
       "      <td>141</td>\n",
       "      <td>2019-12-15</td>\n",
       "      <td>2019-12-21 08:51:03.829787136</td>\n",
       "      <td>2019-12-21</td>\n",
       "      <td>2019-12-29</td>\n",
       "    </tr>\n",
       "    <tr>\n",
       "      <th>with-credit-card</th>\n",
       "      <td>101</td>\n",
       "      <td>2019-12-15</td>\n",
       "      <td>2019-12-22 00:57:01.782178304</td>\n",
       "      <td>2019-12-22</td>\n",
       "      <td>2019-12-29</td>\n",
       "    </tr>\n",
       "  </tbody>\n",
       "</table>\n",
       "</div>"
      ],
      "text/plain": [
       "                  count        min                          mean     median  \\\n",
       "experiment_group                                                              \n",
       "no-credit-card      141 2019-12-15 2019-12-21 08:51:03.829787136 2019-12-21   \n",
       "with-credit-card    101 2019-12-15 2019-12-22 00:57:01.782178304 2019-12-22   \n",
       "\n",
       "                        max  \n",
       "experiment_group             \n",
       "no-credit-card   2019-12-29  \n",
       "with-credit-card 2019-12-29  "
      ]
     },
     "execution_count": 58,
     "metadata": {},
     "output_type": "execute_result"
    }
   ],
   "source": [
    "df.groupby(['experiment_group']).agg(['count', 'min', 'mean', 'median', 'max'])['patient_created_at']"
   ]
  },
  {
   "cell_type": "markdown",
   "id": "f0d2b841",
   "metadata": {},
   "source": [
    "**The minimum and maximum dates are the same for both groups. The first sign up was on 15 Dec 2019 the last was on 29 Dec 2019. The experiment lasted 15 days.**\n",
    "\n",
    "**The mean and median for each group are similar to each other and similar to the overall mean and median, although the mean and median for the \"with-credit-card\" group is one day later than the the other group. It is not a big difference but I will check the distribution for more details.**"
   ]
  },
  {
   "cell_type": "code",
   "execution_count": 59,
   "id": "93d1394f",
   "metadata": {},
   "outputs": [
    {
     "data": {
      "image/png": "[encoded data removed]",
      "text/plain": [
       "<Figure size 720x360 with 1 Axes>"
      ]
     },
     "metadata": {},
     "output_type": "display_data"
    }
   ],
   "source": [
    "df.hist(column='patient_created_at', figsize=(10,5), bins=15, grid=False, rwidth=.9, color='purple')\n",
    "plt.savefig('pat_created_all.png')"
   ]
  },
  {
   "cell_type": "code",
   "execution_count": 60,
   "id": "c9addcfa",
   "metadata": {},
   "outputs": [
    {
     "data": {
      "image/png": "[encoded data removed]",
      "text/plain": [
       "<Figure size 720x360 with 2 Axes>"
      ]
     },
     "metadata": {},
     "output_type": "display_data"
    }
   ],
   "source": [
    "df.hist(column='patient_created_at', by='experiment_group', figsize=(10,5), bins=15, grid=False, rwidth=.9,\n",
    "        color='purple', sharex=True, sharey=True)\n",
    "plt.savefig('pat_created_split.png')"
   ]
  },
  {
   "cell_type": "markdown",
   "id": "8862eaa3",
   "metadata": {},
   "source": [
    "**There was a massive increase in sign ups for the \"no-credit-card\" group on 17 December but there were some sign ups for the other group on that day as well so I cannot really say that the difference was due to one version of the page not working, although there may have been some technical issues resulting in more overall sign ups for no-credit-card group.**"
   ]
  },
  {
   "cell_type": "markdown",
   "id": "57adee28",
   "metadata": {},
   "source": [
    "# Count of events"
   ]
  },
  {
   "cell_type": "code",
   "execution_count": 61,
   "id": "0519f789",
   "metadata": {},
   "outputs": [
    {
     "data": {
      "text/html": [
       "<div>\n",
       "<style scoped>\n",
       "    .dataframe tbody tr th:only-of-type {\n",
       "        vertical-align: middle;\n",
       "    }\n",
       "\n",
       "    .dataframe tbody tr th {\n",
       "        vertical-align: top;\n",
       "    }\n",
       "\n",
       "    .dataframe thead th {\n",
       "        text-align: right;\n",
       "    }\n",
       "</style>\n",
       "<table border=\"1\" class=\"dataframe\">\n",
       "  <thead>\n",
       "    <tr style=\"text-align: right;\">\n",
       "      <th></th>\n",
       "      <th>experiment_group</th>\n",
       "      <th>appointment_attendance</th>\n",
       "      <th>patient_created_at</th>\n",
       "      <th>first_cx_booked_at</th>\n",
       "      <th>first_cx_cancelled_at</th>\n",
       "      <th>cx_appointment_at</th>\n",
       "      <th>px_booked_at</th>\n",
       "    </tr>\n",
       "  </thead>\n",
       "  <tbody>\n",
       "    <tr>\n",
       "      <th>0</th>\n",
       "      <td>no-credit-card</td>\n",
       "      <td>patient-no-show</td>\n",
       "      <td>7</td>\n",
       "      <td>7</td>\n",
       "      <td>0</td>\n",
       "      <td>7</td>\n",
       "      <td>0</td>\n",
       "    </tr>\n",
       "    <tr>\n",
       "      <th>1</th>\n",
       "      <td>no-credit-card</td>\n",
       "      <td>patient-show</td>\n",
       "      <td>69</td>\n",
       "      <td>69</td>\n",
       "      <td>2</td>\n",
       "      <td>69</td>\n",
       "      <td>6</td>\n",
       "    </tr>\n",
       "    <tr>\n",
       "      <th>2</th>\n",
       "      <td>with-credit-card</td>\n",
       "      <td>patient-no-show</td>\n",
       "      <td>7</td>\n",
       "      <td>7</td>\n",
       "      <td>1</td>\n",
       "      <td>7</td>\n",
       "      <td>0</td>\n",
       "    </tr>\n",
       "    <tr>\n",
       "      <th>3</th>\n",
       "      <td>with-credit-card</td>\n",
       "      <td>patient-show</td>\n",
       "      <td>38</td>\n",
       "      <td>38</td>\n",
       "      <td>0</td>\n",
       "      <td>38</td>\n",
       "      <td>6</td>\n",
       "    </tr>\n",
       "  </tbody>\n",
       "</table>\n",
       "</div>"
      ],
      "text/plain": [
       "   experiment_group appointment_attendance  patient_created_at  \\\n",
       "0    no-credit-card        patient-no-show                   7   \n",
       "1    no-credit-card           patient-show                  69   \n",
       "2  with-credit-card        patient-no-show                   7   \n",
       "3  with-credit-card           patient-show                  38   \n",
       "\n",
       "   first_cx_booked_at  first_cx_cancelled_at  cx_appointment_at  px_booked_at  \n",
       "0                   7                      0                  7             0  \n",
       "1                  69                      2                 69             6  \n",
       "2                   7                      1                  7             0  \n",
       "3                  38                      0                 38             6  "
      ]
     },
     "execution_count": 61,
     "metadata": {},
     "output_type": "execute_result"
    }
   ],
   "source": [
    "df.groupby(['experiment_group', 'appointment_attendance'])['patient_created_at', 'first_cx_booked_at', 'first_cx_cancelled_at', \n",
    "                                         'cx_appointment_at', 'px_booked_at'].count().reset_index()"
   ]
  },
  {
   "cell_type": "markdown",
   "id": "e0b765ec",
   "metadata": {},
   "source": [
    "# Timescale of events"
   ]
  },
  {
   "cell_type": "markdown",
   "id": "ab4f6c1f",
   "metadata": {},
   "source": [
    "Creating a dataframe with only those columns which contain dates."
   ]
  },
  {
   "cell_type": "code",
   "execution_count": 62,
   "id": "5b7a5a30",
   "metadata": {},
   "outputs": [
    {
     "data": {
      "text/html": [
       "<div>\n",
       "<style scoped>\n",
       "    .dataframe tbody tr th:only-of-type {\n",
       "        vertical-align: middle;\n",
       "    }\n",
       "\n",
       "    .dataframe tbody tr th {\n",
       "        vertical-align: top;\n",
       "    }\n",
       "\n",
       "    .dataframe thead th {\n",
       "        text-align: right;\n",
       "    }\n",
       "</style>\n",
       "<table border=\"1\" class=\"dataframe\">\n",
       "  <thead>\n",
       "    <tr style=\"text-align: right;\">\n",
       "      <th></th>\n",
       "      <th>signup</th>\n",
       "      <th>booking</th>\n",
       "      <th>cancellation</th>\n",
       "      <th>appointment</th>\n",
       "      <th>procedure</th>\n",
       "    </tr>\n",
       "  </thead>\n",
       "  <tbody>\n",
       "    <tr>\n",
       "      <th>0</th>\n",
       "      <td>2019-12-20</td>\n",
       "      <td>2019-12-21</td>\n",
       "      <td>NaT</td>\n",
       "      <td>2020-01-11</td>\n",
       "      <td>2020-01-13</td>\n",
       "    </tr>\n",
       "    <tr>\n",
       "      <th>1</th>\n",
       "      <td>2019-12-23</td>\n",
       "      <td>NaT</td>\n",
       "      <td>NaT</td>\n",
       "      <td>NaT</td>\n",
       "      <td>NaT</td>\n",
       "    </tr>\n",
       "    <tr>\n",
       "      <th>2</th>\n",
       "      <td>2019-12-19</td>\n",
       "      <td>2019-12-19</td>\n",
       "      <td>NaT</td>\n",
       "      <td>2020-01-05</td>\n",
       "      <td>NaT</td>\n",
       "    </tr>\n",
       "    <tr>\n",
       "      <th>3</th>\n",
       "      <td>2019-12-22</td>\n",
       "      <td>NaT</td>\n",
       "      <td>NaT</td>\n",
       "      <td>NaT</td>\n",
       "      <td>NaT</td>\n",
       "    </tr>\n",
       "    <tr>\n",
       "      <th>4</th>\n",
       "      <td>2019-12-23</td>\n",
       "      <td>NaT</td>\n",
       "      <td>NaT</td>\n",
       "      <td>NaT</td>\n",
       "      <td>NaT</td>\n",
       "    </tr>\n",
       "    <tr>\n",
       "      <th>...</th>\n",
       "      <td>...</td>\n",
       "      <td>...</td>\n",
       "      <td>...</td>\n",
       "      <td>...</td>\n",
       "      <td>...</td>\n",
       "    </tr>\n",
       "    <tr>\n",
       "      <th>244</th>\n",
       "      <td>2019-12-17</td>\n",
       "      <td>2019-12-21</td>\n",
       "      <td>NaT</td>\n",
       "      <td>2020-01-21</td>\n",
       "      <td>NaT</td>\n",
       "    </tr>\n",
       "    <tr>\n",
       "      <th>245</th>\n",
       "      <td>2019-12-17</td>\n",
       "      <td>2019-12-17</td>\n",
       "      <td>NaT</td>\n",
       "      <td>2019-12-18</td>\n",
       "      <td>NaT</td>\n",
       "    </tr>\n",
       "    <tr>\n",
       "      <th>246</th>\n",
       "      <td>2019-12-22</td>\n",
       "      <td>2019-12-22</td>\n",
       "      <td>NaT</td>\n",
       "      <td>2020-01-14</td>\n",
       "      <td>2020-01-21</td>\n",
       "    </tr>\n",
       "    <tr>\n",
       "      <th>248</th>\n",
       "      <td>2019-12-22</td>\n",
       "      <td>NaT</td>\n",
       "      <td>NaT</td>\n",
       "      <td>NaT</td>\n",
       "      <td>NaT</td>\n",
       "    </tr>\n",
       "    <tr>\n",
       "      <th>249</th>\n",
       "      <td>2019-12-21</td>\n",
       "      <td>2019-12-21</td>\n",
       "      <td>NaT</td>\n",
       "      <td>2020-01-13</td>\n",
       "      <td>NaT</td>\n",
       "    </tr>\n",
       "  </tbody>\n",
       "</table>\n",
       "<p>242 rows × 5 columns</p>\n",
       "</div>"
      ],
      "text/plain": [
       "        signup    booking cancellation appointment  procedure\n",
       "0   2019-12-20 2019-12-21          NaT  2020-01-11 2020-01-13\n",
       "1   2019-12-23        NaT          NaT         NaT        NaT\n",
       "2   2019-12-19 2019-12-19          NaT  2020-01-05        NaT\n",
       "3   2019-12-22        NaT          NaT         NaT        NaT\n",
       "4   2019-12-23        NaT          NaT         NaT        NaT\n",
       "..         ...        ...          ...         ...        ...\n",
       "244 2019-12-17 2019-12-21          NaT  2020-01-21        NaT\n",
       "245 2019-12-17 2019-12-17          NaT  2019-12-18        NaT\n",
       "246 2019-12-22 2019-12-22          NaT  2020-01-14 2020-01-21\n",
       "248 2019-12-22        NaT          NaT         NaT        NaT\n",
       "249 2019-12-21 2019-12-21          NaT  2020-01-13        NaT\n",
       "\n",
       "[242 rows x 5 columns]"
      ]
     },
     "execution_count": 62,
     "metadata": {},
     "output_type": "execute_result"
    }
   ],
   "source": [
    "df_dates = df[['patient_created_at', 'first_cx_booked_at', 'first_cx_cancelled_at', 'cx_appointment_at', 'px_booked_at']]\n",
    "df_dates.rename(columns = {'patient_created_at':'signup', 'first_cx_booked_at':'booking', 'first_cx_cancelled_at':'cancellation', \n",
    "                           'cx_appointment_at':'appointment', 'px_booked_at':'procedure'}, inplace = True)\n",
    "df_dates"
   ]
  },
  {
   "cell_type": "markdown",
   "id": "8753899e",
   "metadata": {},
   "source": [
    "VIsualising the missing values."
   ]
  },
  {
   "cell_type": "code",
   "execution_count": 63,
   "id": "20b942d4",
   "metadata": {},
   "outputs": [
    {
     "data": {
      "image/png": "[encoded data removed]",
      "text/plain": [
       "<Figure size 720x360 with 2 Axes>"
      ]
     },
     "metadata": {},
     "output_type": "display_data"
    }
   ],
   "source": [
    "sns.set(rc={'figure.figsize':(10, 5)})\n",
    "sns.heatmap(df_dates.isna(),cmap='viridis', yticklabels=False)\n",
    "plt.show()"
   ]
  },
  {
   "cell_type": "markdown",
   "id": "1c4e59e8",
   "metadata": {},
   "source": [
    "Reshaping the dataframe to enable timeseries visualisation."
   ]
  },
  {
   "cell_type": "code",
   "execution_count": 64,
   "id": "bbafc245",
   "metadata": {},
   "outputs": [
    {
     "data": {
      "text/html": [
       "<div>\n",
       "<style scoped>\n",
       "    .dataframe tbody tr th:only-of-type {\n",
       "        vertical-align: middle;\n",
       "    }\n",
       "\n",
       "    .dataframe tbody tr th {\n",
       "        vertical-align: top;\n",
       "    }\n",
       "\n",
       "    .dataframe thead th {\n",
       "        text-align: right;\n",
       "    }\n",
       "</style>\n",
       "<table border=\"1\" class=\"dataframe\">\n",
       "  <thead>\n",
       "    <tr style=\"text-align: right;\">\n",
       "      <th></th>\n",
       "      <th>Event</th>\n",
       "      <th>Dates</th>\n",
       "    </tr>\n",
       "  </thead>\n",
       "  <tbody>\n",
       "    <tr>\n",
       "      <th>0</th>\n",
       "      <td>signup</td>\n",
       "      <td>2019-12-20</td>\n",
       "    </tr>\n",
       "    <tr>\n",
       "      <th>1</th>\n",
       "      <td>signup</td>\n",
       "      <td>2019-12-23</td>\n",
       "    </tr>\n",
       "    <tr>\n",
       "      <th>2</th>\n",
       "      <td>signup</td>\n",
       "      <td>2019-12-19</td>\n",
       "    </tr>\n",
       "    <tr>\n",
       "      <th>3</th>\n",
       "      <td>signup</td>\n",
       "      <td>2019-12-22</td>\n",
       "    </tr>\n",
       "    <tr>\n",
       "      <th>4</th>\n",
       "      <td>signup</td>\n",
       "      <td>2019-12-23</td>\n",
       "    </tr>\n",
       "  </tbody>\n",
       "</table>\n",
       "</div>"
      ],
      "text/plain": [
       "    Event      Dates\n",
       "0  signup 2019-12-20\n",
       "1  signup 2019-12-23\n",
       "2  signup 2019-12-19\n",
       "3  signup 2019-12-22\n",
       "4  signup 2019-12-23"
      ]
     },
     "execution_count": 64,
     "metadata": {},
     "output_type": "execute_result"
    }
   ],
   "source": [
    "df_melt = pd.melt(df_dates,\n",
    "                   value_vars=['signup', 'booking', 'cancellation', 'appointment', 'procedure'],\n",
    "                   var_name='Event',value_name='Dates')\n",
    "df1_melt = df_melt.dropna()\n",
    "df1_melt.head()"
   ]
  },
  {
   "cell_type": "markdown",
   "id": "bc4c7a2a",
   "metadata": {},
   "source": [
    "Saving a copy of the new dataframe because I was not able to find a boxplot that whould take categorical data in Python, but I found one in Excel."
   ]
  },
  {
   "cell_type": "code",
   "execution_count": 66,
   "id": "b0609bf4",
   "metadata": {},
   "outputs": [],
   "source": [
    "df1_melt.to_csv('melted.csv')"
   ]
  },
  {
   "cell_type": "code",
   "execution_count": 67,
   "id": "375c6309",
   "metadata": {},
   "outputs": [],
   "source": [
    "sns.set(rc={'axes.facecolor':'white', 'figure.facecolor':'white'})"
   ]
  },
  {
   "cell_type": "markdown",
   "id": "852e5b58",
   "metadata": {},
   "source": [
    "The graph I did find in Python is the below showing events at the point in time."
   ]
  },
  {
   "cell_type": "code",
   "execution_count": 70,
   "id": "f8a5ce9d",
   "metadata": {},
   "outputs": [
    {
     "data": {
      "text/plain": [
       "<seaborn.axisgrid.FacetGrid at 0x24ce217a370>"
      ]
     },
     "execution_count": 70,
     "metadata": {},
     "output_type": "execute_result"
    },
    {
     "data": {
      "image/png": "[encoded data removed]",
      "text/plain": [
       "<Figure size 720x720 with 1 Axes>"
      ]
     },
     "metadata": {},
     "output_type": "display_data"
    }
   ],
   "source": [
    "sns.catplot(data=df1_melt, x=\"Event\", y=\"Dates\", size=10)"
   ]
  },
  {
   "cell_type": "code",
   "execution_count": null,
   "id": "30678f0b",
   "metadata": {},
   "outputs": [],
   "source": []
  }
 ],
 "metadata": {
  "kernelspec": {
   "display_name": "Python 3 (ipykernel)",
   "language": "python",
   "name": "python3"
  },
  "language_info": {
   "codemirror_mode": {
    "name": "ipython",
    "version": 3
   },
   "file_extension": ".py",
   "mimetype": "text/x-python",
   "name": "python",
   "nbconvert_exporter": "python",
   "pygments_lexer": "ipython3",
   "version": "3.9.7"
  },
  "toc": {
   "base_numbering": 1,
   "nav_menu": {},
   "number_sections": true,
   "sideBar": true,
   "skip_h1_title": false,
   "title_cell": "Table of Contents",
   "title_sidebar": "Contents",
   "toc_cell": false,
   "toc_position": {
    "height": "calc(100% - 180px)",
    "left": "10px",
    "top": "150px",
    "width": "384px"
   },
   "toc_section_display": true,
   "toc_window_display": false
  }
 },
 "nbformat": 4,
 "nbformat_minor": 5
}
